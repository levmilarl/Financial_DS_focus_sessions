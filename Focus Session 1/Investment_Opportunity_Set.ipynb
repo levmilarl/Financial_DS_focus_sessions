{
 "cells": [
  {
   "metadata": {},
   "cell_type": "code",
   "outputs": [],
   "execution_count": null,
   "source": ""
  },
  {
   "cell_type": "markdown",
   "metadata": {},
   "source": [
    "## Hey, Python techies!!!\n",
    "\n",
    "The first step in the identification of a Markowitz portfolio is the definition of the investment opportunity set. The investment opportunity set consists of the expected returns of all assets and the covariance matrix of these assets. We will now see how to calculate these.\n",
    "\n",
    "## Let's directly jump into the code\n",
    "\n",
    "As always, we first import standard packages."
   ]
  },
  {
   "cell_type": "code",
   "metadata": {
    "ExecuteTime": {
     "end_time": "2025-06-17T21:36:48.329861Z",
     "start_time": "2025-06-17T21:36:48.001168Z"
    }
   },
   "source": [
    "import numpy as np\n",
    "import pandas as pd\n",
    "import matplotlib.pyplot as plt"
   ],
   "outputs": [],
   "execution_count": 1
  },
  {
   "cell_type": "markdown",
   "metadata": {},
   "source": [
    "Next, we read in some price data and calculate monthly log returns from the provided monthly price observations. In code line 5, we drop the row with the NaN return entries that emerged by shifted the prices in the return calculation."
   ]
  },
  {
   "cell_type": "code",
   "metadata": {
    "ExecuteTime": {
     "end_time": "2025-06-17T21:36:48.400137Z",
     "start_time": "2025-06-17T21:36:48.394031Z"
    }
   },
   "source": [
    "prices = pd.read_csv(\"prices.csv\", parse_dates = ['Date'])\n",
    "prices.loc[:, 'SP500_return'] = np.log(prices.loc[:, 'SP500']) - np.log(prices.loc[:, 'SP500'].shift())\n",
    "prices.loc[:, 'VBTIX_return'] = np.log(prices.loc[:, 'VBTIX']) - np.log(prices.loc[:, 'VBTIX'].shift())\n",
    "prices = prices.dropna()"
   ],
   "outputs": [],
   "execution_count": 2
  },
  {
   "cell_type": "markdown",
   "metadata": {},
   "source": [
    "An unbiased estimator for the expected return is just the mean of observed returns. Hence, we calculate this mean of our return time series right away."
   ]
  },
  {
   "cell_type": "code",
   "metadata": {
    "ExecuteTime": {
     "end_time": "2025-06-17T21:39:17.188902Z",
     "start_time": "2025-06-17T21:39:17.184331Z"
    }
   },
   "source": [
    "mu = prices[['SP500_return', 'VBTIX_return']].mean()\n",
    "\n",
    "mu"
   ],
   "outputs": [
    {
     "data": {
      "text/plain": [
       "SP500_return    0.010670\n",
       "VBTIX_return    0.000075\n",
       "dtype: float64"
      ]
     },
     "execution_count": 9,
     "metadata": {},
     "output_type": "execute_result"
    }
   ],
   "execution_count": 9
  },
  {
   "cell_type": "markdown",
   "metadata": {},
   "source": [
    "The estimates correspond to expected returns over one month. Usually, we want to work with a yearly time horizon. Annualizing the 'mu' estimates by multiplying them with 12 (there are 12 months in a year) gives our expected return component of the investment opportunity set."
   ]
  },
  {
   "cell_type": "code",
   "metadata": {
    "ExecuteTime": {
     "end_time": "2025-06-17T21:39:39.196213Z",
     "start_time": "2025-06-17T21:39:39.192702Z"
    }
   },
   "source": [
    "\n",
    "mu = 12 * mu\n",
    "mu"
   ],
   "outputs": [
    {
     "data": {
      "text/plain": [
       "SP500_return    0.128036\n",
       "VBTIX_return    0.000905\n",
       "dtype: float64"
      ]
     },
     "execution_count": 10,
     "metadata": {},
     "output_type": "execute_result"
    }
   ],
   "execution_count": 10
  },
  {
   "cell_type": "markdown",
   "metadata": {},
   "source": [
    "For the covariance matrix, we make use of numpy's 'cov' function. That function calculated the covariance matrix for all rows of a given matrix or DataFrame. Since our data is stored in columns, we need to transpose the DataFrame by calling the 'T' attributed before passing it to the 'cov' function."
   ]
  },
  {
   "cell_type": "code",
   "metadata": {
    "ExecuteTime": {
     "end_time": "2025-06-17T21:36:48.482766Z",
     "start_time": "2025-06-17T21:36:48.479377Z"
    }
   },
   "source": [
    "covariance = np.cov(prices[['SP500_return', 'VBTIX_return']].T)\n",
    "covariance"
   ],
   "outputs": [
    {
     "data": {
      "text/plain": [
       "array([[ 1.01135863e-03, -1.99263382e-05],\n",
       "       [-1.99263382e-05,  6.44715109e-05]])"
      ]
     },
     "execution_count": 5,
     "metadata": {},
     "output_type": "execute_result"
    }
   ],
   "execution_count": 5
  },
  {
   "cell_type": "markdown",
   "metadata": {},
   "source": [
    "The covariance, too, needs to be annualized now. Again, we do so by multiplying it with 12. After that, we also have the covariance component of the investment opportunity set and we're ready to proceed with the identification Markowitz portfolios."
   ]
  },
  {
   "cell_type": "code",
   "metadata": {
    "ExecuteTime": {
     "end_time": "2025-06-17T21:36:48.498831Z",
     "start_time": "2025-06-17T21:36:48.496406Z"
    }
   },
   "source": [
    "covariance = covariance * 12\n",
    "covariance"
   ],
   "outputs": [
    {
     "data": {
      "text/plain": [
       "array([[ 0.0121363 , -0.00023912],\n",
       "       [-0.00023912,  0.00077366]])"
      ]
     },
     "execution_count": 6,
     "metadata": {},
     "output_type": "execute_result"
    }
   ],
   "execution_count": 6
  },
  {
   "cell_type": "markdown",
   "metadata": {},
   "source": [
    "MU: to do:\n",
    "1. are monthly log returns Gaussian?\n",
    "2. are monthly simple returns more or less Gaussian than monthly log returns?\n",
    "3. Is the covariance matrix for log returns different than for simple return \n",
    "4. plot Bond and SP500 mthly return time series and spot (by eye bolling)periods of extreme movements (jumps or vol clustering)\n",
    "5. state annualized Sharpe ratio for 100% stock investment, 100% bond investment and an equal weight portfolio\n",
    "6. is the log return of an equal weight portfolio Gaussian?"
   ]
  },
  {
   "cell_type": "code",
   "metadata": {
    "ExecuteTime": {
     "end_time": "2025-06-17T21:36:48.566489Z",
     "start_time": "2025-06-17T21:36:48.564479Z"
    }
   },
   "source": [],
   "outputs": [],
   "execution_count": null
  }
 ],
 "metadata": {
  "kernelspec": {
   "display_name": "Python 3 (ipykernel)",
   "language": "python",
   "name": "python3"
  },
  "language_info": {
   "codemirror_mode": {
    "name": "ipython",
    "version": 3
   },
   "file_extension": ".py",
   "mimetype": "text/x-python",
   "name": "python",
   "nbconvert_exporter": "python",
   "pygments_lexer": "ipython3",
   "version": "3.12.7"
  }
 },
 "nbformat": 4,
 "nbformat_minor": 4
}
