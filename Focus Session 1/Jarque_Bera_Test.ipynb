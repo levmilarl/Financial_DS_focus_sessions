{
 "cells": [
  {
   "cell_type": "markdown",
   "metadata": {},
   "source": [
    "# Goal: Testing whether Returns are Normally Distributed"
   ]
  },
  {
   "cell_type": "markdown",
   "metadata": {},
   "source": [
    "## Hey, Python techies!!\n",
    "\n",
    "A good way to think about returns of a financial asset is to view them as realizations of a random variable. Such a random variable must then have a distribution, from which the observed returns are sampled. It is often convenient to assume that returns are normally distributed. But are they? The Jarque-Bera-Test offers a way to formally test that assumption.\n",
    "\n",
    "The test statistic for the Jarque-Bera test is\n",
    "\n",
    "$$JB = \\frac{N}{6} \\left( S^2 + 0.25 (K - 3)^2 \\right),$$\n",
    "\n",
    "where $N$ is the amount of observed returns, $S$ is their skewness and $K$ is their kurtosis. A normal distribution has a skewness of 0 and kurtosis of 3, so the $JB$ statistic would be 0. Under the null hypothesis that returns are normally distributed, $JB$ is $\\chi^2$-distributed with 2 degrees of freedom.\n",
    "\n",
    "## Let's now check whether daily returns are normally distributed\n",
    "\n",
    "For our analysis, we'll need the pandas, the numpy and scipy's stats subpackage, which we directly load in the beginning."
   ]
  },
  {
   "cell_type": "code",
   "execution_count": 1,
   "metadata": {},
   "outputs": [],
   "source": [
    "import pandas as pd\n",
    "import numpy as np\n",
    "import scipy.stats"
   ]
  },
  {
   "cell_type": "markdown",
   "metadata": {},
   "source": [
    "Next, we load prices of the S&P 500 in code line 4 and compute daily log returns in code line 5. "
   ]
  },
  {
   "cell_type": "code",
   "execution_count": 2,
   "metadata": {},
   "outputs": [
    {
     "data": {
      "text/html": [
       "<div>\n",
       "<style scoped>\n",
       "    .dataframe tbody tr th:only-of-type {\n",
       "        vertical-align: middle;\n",
       "    }\n",
       "\n",
       "    .dataframe tbody tr th {\n",
       "        vertical-align: top;\n",
       "    }\n",
       "\n",
       "    .dataframe thead th {\n",
       "        text-align: right;\n",
       "    }\n",
       "</style>\n",
       "<table border=\"1\" class=\"dataframe\">\n",
       "  <thead>\n",
       "    <tr style=\"text-align: right;\">\n",
       "      <th></th>\n",
       "      <th>Date</th>\n",
       "      <th>price</th>\n",
       "      <th>ret_daily</th>\n",
       "    </tr>\n",
       "  </thead>\n",
       "  <tbody>\n",
       "    <tr>\n",
       "      <th>0</th>\n",
       "      <td>1999-12-31</td>\n",
       "      <td>1469.25</td>\n",
       "      <td>NaN</td>\n",
       "    </tr>\n",
       "    <tr>\n",
       "      <th>1</th>\n",
       "      <td>2000-01-03</td>\n",
       "      <td>1455.22</td>\n",
       "      <td>-0.009595</td>\n",
       "    </tr>\n",
       "    <tr>\n",
       "      <th>2</th>\n",
       "      <td>2000-01-04</td>\n",
       "      <td>1399.42</td>\n",
       "      <td>-0.039099</td>\n",
       "    </tr>\n",
       "    <tr>\n",
       "      <th>3</th>\n",
       "      <td>2000-01-05</td>\n",
       "      <td>1402.11</td>\n",
       "      <td>0.001920</td>\n",
       "    </tr>\n",
       "    <tr>\n",
       "      <th>4</th>\n",
       "      <td>2000-01-06</td>\n",
       "      <td>1403.45</td>\n",
       "      <td>0.000955</td>\n",
       "    </tr>\n",
       "  </tbody>\n",
       "</table>\n",
       "</div>"
      ],
      "text/plain": [
       "        Date    price  ret_daily\n",
       "0 1999-12-31  1469.25        NaN\n",
       "1 2000-01-03  1455.22  -0.009595\n",
       "2 2000-01-04  1399.42  -0.039099\n",
       "3 2000-01-05  1402.11   0.001920\n",
       "4 2000-01-06  1403.45   0.000955"
      ]
     },
     "execution_count": 2,
     "metadata": {},
     "output_type": "execute_result"
    }
   ],
   "source": [
    "sp500 = pd.read_csv(\"sp500.csv\", parse_dates = ['Date'])\n",
    "sp500['ret_daily'] = np.log(sp500['price']) - np.log(sp500['price'].shift())\n",
    "sp500.head()"
   ]
  },
  {
   "cell_type": "markdown",
   "metadata": {},
   "source": [
    "We remove the NaN value in the beginning of the return time series via the 'dropna' function in code line 7."
   ]
  },
  {
   "cell_type": "code",
   "execution_count": 3,
   "metadata": {},
   "outputs": [
    {
     "data": {
      "text/html": [
       "<div>\n",
       "<style scoped>\n",
       "    .dataframe tbody tr th:only-of-type {\n",
       "        vertical-align: middle;\n",
       "    }\n",
       "\n",
       "    .dataframe tbody tr th {\n",
       "        vertical-align: top;\n",
       "    }\n",
       "\n",
       "    .dataframe thead th {\n",
       "        text-align: right;\n",
       "    }\n",
       "</style>\n",
       "<table border=\"1\" class=\"dataframe\">\n",
       "  <thead>\n",
       "    <tr style=\"text-align: right;\">\n",
       "      <th></th>\n",
       "      <th>Date</th>\n",
       "      <th>price</th>\n",
       "      <th>ret_daily</th>\n",
       "    </tr>\n",
       "  </thead>\n",
       "  <tbody>\n",
       "    <tr>\n",
       "      <th>1</th>\n",
       "      <td>2000-01-03</td>\n",
       "      <td>1455.22</td>\n",
       "      <td>-0.009595</td>\n",
       "    </tr>\n",
       "    <tr>\n",
       "      <th>2</th>\n",
       "      <td>2000-01-04</td>\n",
       "      <td>1399.42</td>\n",
       "      <td>-0.039099</td>\n",
       "    </tr>\n",
       "    <tr>\n",
       "      <th>3</th>\n",
       "      <td>2000-01-05</td>\n",
       "      <td>1402.11</td>\n",
       "      <td>0.001920</td>\n",
       "    </tr>\n",
       "    <tr>\n",
       "      <th>4</th>\n",
       "      <td>2000-01-06</td>\n",
       "      <td>1403.45</td>\n",
       "      <td>0.000955</td>\n",
       "    </tr>\n",
       "    <tr>\n",
       "      <th>5</th>\n",
       "      <td>2000-01-07</td>\n",
       "      <td>1441.47</td>\n",
       "      <td>0.026730</td>\n",
       "    </tr>\n",
       "  </tbody>\n",
       "</table>\n",
       "</div>"
      ],
      "text/plain": [
       "        Date    price  ret_daily\n",
       "1 2000-01-03  1455.22  -0.009595\n",
       "2 2000-01-04  1399.42  -0.039099\n",
       "3 2000-01-05  1402.11   0.001920\n",
       "4 2000-01-06  1403.45   0.000955\n",
       "5 2000-01-07  1441.47   0.026730"
      ]
     },
     "execution_count": 3,
     "metadata": {},
     "output_type": "execute_result"
    }
   ],
   "source": [
    "sp500 = sp500.dropna()\n",
    "sp500.head()"
   ]
  },
  {
   "cell_type": "markdown",
   "metadata": {},
   "source": [
    "We now compute the $JB$ statistic by implementing the formula above. Thus, we make use of the 'skew' and 'kurtosis' functions of scipy's *stats* subpackage."
   ]
  },
  {
   "cell_type": "code",
   "execution_count": 4,
   "metadata": {},
   "outputs": [
    {
     "data": {
      "text/plain": [
       "17375.470184643305"
      ]
     },
     "execution_count": 4,
     "metadata": {},
     "output_type": "execute_result"
    }
   ],
   "source": [
    "S = scipy.stats.skew(sp500['ret_daily'])\n",
    "K = scipy.stats.kurtosis(sp500['ret_daily'], fisher = False)\n",
    "N = sp500.shape[0]\n",
    "JB = (N / 6) * (S**2 + 0.25 * (K - 3)**2)\n",
    "JB"
   ]
  },
  {
   "cell_type": "markdown",
   "metadata": {},
   "source": [
    "The actual value of the test statistic tells us little about how likely it is to observe such a value, even if returns are actually normally distributed. For that, we need to compute its probability. We do that by using the 'chi2.cdf' function of the scipy.stats package. This function calculates the cumulative probability function for the $\\chi^2$ distribution, which is the probability that we observed a value smaller or equal to $JB$. The function takes a second argument, which is the degrees of freedome of the $chi^2$ distribution. That's 2 in our case."
   ]
  },
  {
   "cell_type": "code",
   "execution_count": 5,
   "metadata": {},
   "outputs": [
    {
     "data": {
      "text/plain": [
       "1.0"
      ]
     },
     "execution_count": 5,
     "metadata": {},
     "output_type": "execute_result"
    }
   ],
   "source": [
    "cdf = scipy.stats.chi2.cdf(JB, 2)\n",
    "cdf"
   ]
  },
  {
   "cell_type": "markdown",
   "metadata": {},
   "source": [
    "We are interested in the probability of the null hypothesis being true, despite we observed $JB$ as it is. The probability for that is 1 minus the probability of observing a value smaller than $JB$. Hence, we can now compute the p-value for the Jarque-Bera test."
   ]
  },
  {
   "cell_type": "code",
   "execution_count": null,
   "metadata": {},
   "outputs": [],
   "source": [
    "p = 1 - cdf\n",
    "p"
   ]
  },
  {
   "cell_type": "markdown",
   "metadata": {},
   "source": [
    "The p-value is 0, indicating that there is a probability of 0%, i.e. no chance, of observing $JB \\approx 17375.47$ if daily returns were actually normally distributed. We did show empirically that returns are not normally distributed."
   ]
  },
  {
   "cell_type": "code",
   "execution_count": null,
   "metadata": {},
   "outputs": [],
   "source": []
  }
 ],
 "metadata": {
  "kernelspec": {
   "display_name": "Python 3 (ipykernel)",
   "language": "python",
   "name": "python3"
  },
  "language_info": {
   "codemirror_mode": {
    "name": "ipython",
    "version": 3
   },
   "file_extension": ".py",
   "mimetype": "text/x-python",
   "name": "python",
   "nbconvert_exporter": "python",
   "pygments_lexer": "ipython3",
   "version": "3.12.7"
  }
 },
 "nbformat": 4,
 "nbformat_minor": 4
}
