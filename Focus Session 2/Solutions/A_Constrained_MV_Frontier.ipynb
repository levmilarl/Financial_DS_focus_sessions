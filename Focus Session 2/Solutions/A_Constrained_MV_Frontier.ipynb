{
 "cells": [
  {
   "cell_type": "markdown",
   "metadata": {},
   "source": [
    "# Goal: Constrained Minimum Variance Frontier"
   ]
  },
  {
   "cell_type": "markdown",
   "metadata": {},
   "source": [
    "## Background\n",
    "\n",
    "The Minimum Variance Frontier can be calculated with certain constraints applied to the portfolios that compose it. Recall that the Minimum Variance Frontier comprises all minimum variance portfolios corresponding to various target expected portfolio returns, denoted as $\\mu_i$.\n",
    "\n",
    "The approach involves iterating through a range of desired portfolio expected returns and conducting a numerical optimization for each of these returns to identify the optimal constrained Minimum Variance Frontier.\n",
    "\n",
    "In our example, we will apply two key constraints:\n",
    "\n",
    "- A no-shorting constraint (MU: note, bound for optimizer), where $w_j \\geq 0$ for each asset $j$.\n",
    "\n",
    "- A diversification constraint (MU: note, bound for optimizer), where no more than $50\\%$ of the total wealth is invested in any single asset $w_j \\leq 0.5$ for each asset $j$.\n",
    "\n",
    "## Getting Started\n",
    "\n",
    "To tackle this optimization problem, we will primarily use numpy for handling the algebraic aspects. Additionally, we will utilize the scipy.optimize package, which offers a convenient and robust framework for numerical optimization. Lastly, we'll employ matplotlib to visually present our results. Let's dive in and explore how these constraints shape the efficient frontier.\n",
    "\n",
    "## Settings: \n",
    "- 3 assets\n",
    "- Expected returns: 0.03, 0.06, 0.08\n",
    "- Standard deviation of returns: 0.04, 0.13, 0.16\n",
    "- Correlation: \n",
    "    0.1 (1 and 2), 0.2 (1 and 3), 0.7 (2 and 3)\n",
    "   \n"
   ]
  },
  {
   "cell_type": "code",
   "metadata": {
    "ExecuteTime": {
     "end_time": "2025-06-17T22:26:30.533431Z",
     "start_time": "2025-06-17T22:26:30.530673Z"
    }
   },
   "source": [
    "# Packages\n",
    "import scipy.optimize\n",
    "import numpy as np\n",
    "import matplotlib.pyplot as plt"
   ],
   "outputs": [],
   "execution_count": 9
  },
  {
   "cell_type": "code",
   "metadata": {
    "ExecuteTime": {
     "end_time": "2025-06-17T22:26:30.546882Z",
     "start_time": "2025-06-17T22:26:30.544876Z"
    }
   },
   "source": [
    "#Investment Opportunity Set\n",
    "mu = np.array([[0.03], [0.06], [0.08]])\n",
    "\n",
    "Sigma = np.array([ [0.04**2, 0.1*0.04*0.13, 0.2*0.04*0.16 ], \n",
    "                   [0.1*0.04*0.13, 0.13**2, 0.7*0.13*0.16], \n",
    "                  [0.2*0.04*0.16, 0.7*0.13*0.16, 0.16**2] ])"
   ],
   "outputs": [],
   "execution_count": 10
  },
  {
   "cell_type": "code",
   "metadata": {
    "ExecuteTime": {
     "end_time": "2025-06-17T22:26:30.558044Z",
     "start_time": "2025-06-17T22:26:30.555153Z"
    }
   },
   "source": [
    "#SINGLE OPTIMIZATIONS: Objective Function, Constraint Function, Starting Values, Bounds\n",
    "\n",
    "def portfolio_variance(w):\n",
    "        #input: w as numpy column vector\n",
    "        #output: scalar\n",
    "    return (w.T@Sigma@w).item() #objective function to be minimized\n",
    "\n",
    "\n",
    "def eq_portfolio_return(w):\n",
    "    #input: numpy portfolio column vector\n",
    "    #note: mu_i is a global variable; needs to be known before calling this function\n",
    "    #output: difference between w's expected return and the target return; scalar\n",
    "    \n",
    "    return (w.T@mu).item() - mu_i #constraint to meet target expected return mu_i\n",
    "\n",
    "\n",
    "def eq_weight_sum(w): \n",
    "    #content: full investment constraint: 100% is invested in risky assets\n",
    "    #input: numpy portfolio column vector\n",
    "    #output: difference between sum of portfolio holdings and 100%=1. \n",
    "    \n",
    "    return np.sum(w) - 1\n",
    "\n",
    "\n",
    "# starting values\n",
    "w0 = [0.3, 0.4, 0.3] # note: starting values matter for the local optimizer as it is not a global optimizer. hence, try to use informative starting values\n",
    "#todo this is not an array, transposing in function above throws error\n",
    "\n",
    "#=========PLAYING AROUND with Starting Values===============================================\n",
    "#playing around: wrong w0 ==> awkward MV-frontier\n",
    "##w0 = [1.3, 0.4, 0.3] #use a starting value that does not fullfil at least one constraint and chances rise you get stuck in \"weired\" local optima\n",
    "##w0 = [0,0,0] # another example where \"silly\" starting value leads to \"silly\" constrained MV-F\n",
    "#=========END PLAYING AROUND===============================================\n",
    "\n",
    "#no short-sale (bound) and minimum diversification bound\n",
    "bounds = [(0, 0.5), (0, 0.5), (0, 0.5)]\n",
    "\n",
    "#======= PLAYING AROUND WITH BOUNDS TO SEE CONVERGENCE TO UNCONSTRAINED MV===\n",
    "#for playing around: proxy for unconstrained\n",
    "##bounds = [(-50, 50), (-50, 50), (-50, 50)]\n",
    "#========= END PLAYING AROUND =====================\n",
    "\n",
    "\n",
    "constraints = [{'type': 'eq', 'fun': eq_portfolio_return},\n",
    "               {'type': 'eq', 'fun': eq_weight_sum}\n",
    "               ] #target return and full investment constraint\n",
    "\n",
    "\n",
    "    \n",
    "    \n"
   ],
   "outputs": [],
   "execution_count": 11
  },
  {
   "cell_type": "code",
   "metadata": {
    "ExecuteTime": {
     "end_time": "2025-06-17T22:26:30.572637Z",
     "start_time": "2025-06-17T22:26:30.570727Z"
    }
   },
   "source": [
    "#Loop through y-axis (i.e. mu_i)\n",
    "\n",
    "mu_min = 0.02\n",
    "mu_max = 0.2\n",
    "incr = 0.001"
   ],
   "outputs": [],
   "execution_count": 12
  },
  {
   "cell_type": "code",
   "metadata": {
    "ExecuteTime": {
     "end_time": "2025-06-17T22:26:30.610490Z",
     "start_time": "2025-06-17T22:26:30.607208Z"
    }
   },
   "source": [
    "#number of evaluations (i.e. number of optimizations)\n",
    "nr_evals = int( (mu_max - mu_min) / incr + 1) #todo fehler 2\n",
    "nr_evals #number of portfolios on the MV-frontier"
   ],
   "outputs": [
    {
     "data": {
      "text/plain": [
       "181"
      ]
     },
     "execution_count": 13,
     "metadata": {},
     "output_type": "execute_result"
    }
   ],
   "execution_count": 13
  },
  {
   "cell_type": "code",
   "metadata": {
    "ExecuteTime": {
     "end_time": "2025-06-17T22:26:34.701871Z",
     "start_time": "2025-06-17T22:26:30.627445Z"
    }
   },
   "source": [
    "# MV-Frontier\n",
    "\n",
    "w_MV = np.zeros((nr_evals, 3))\n",
    "mu_MV = np.zeros((nr_evals,))\n",
    "sigma_MV = np.zeros((nr_evals,))\n",
    "\n",
    "mu_i = mu_min\n",
    "for i in range(0,nr_evals):\n",
    "    w_opt = scipy.optimize.minimize(portfolio_variance, w0, bounds=bounds, constraints=constraints)\n",
    "    w_MV[i,:] = w_opt.x\n",
    "    mu_MV[i] = (w_opt.x.T@mu).item()  #MU: come back here.\n",
    "    sigma_MV[i] = (w_opt.x.T@Sigma@w_opt.x).item()**0.5\n",
    "    \n",
    "    mu_i = mu_i + incr"
   ],
   "outputs": [],
   "execution_count": 14
  },
  {
   "cell_type": "code",
   "metadata": {
    "ExecuteTime": {
     "end_time": "2025-06-17T22:26:34.767072Z",
     "start_time": "2025-06-17T22:26:34.710733Z"
    }
   },
   "source": [
    "# Plot MV-Frontier\n",
    "\n",
    "plt.figure(1, figsize=(12,7))\n",
    "\n",
    "#show the MV-frontier that obeys constraints and bounds\n",
    "plt.plot(sigma_MV, mu_MV, color='blue',label='Constrained MV-Frontier')\n",
    "\n",
    "# add single assets investment opportunities\n",
    "plt.scatter(np.diag(Sigma)**0.5, mu[:,0], s=20, color='black', label='Individual Assets')\n",
    "\n",
    "#descrive axis\n",
    "plt.xlabel('$\\sigma(r)$')\n",
    "plt.ylabel('$E[r]$')\n",
    "\n",
    "plt.legend()\n",
    "\n",
    "#add a title\n",
    "plt.title('Constrained Minimum Variance Frontier')\n",
    "plt.show()"
   ],
   "outputs": [
    {
     "name": "stderr",
     "output_type": "stream",
     "text": [
      "<>:12: SyntaxWarning: invalid escape sequence '\\s'\n",
      "<>:12: SyntaxWarning: invalid escape sequence '\\s'\n",
      "C:\\Users\\leven\\AppData\\Local\\Temp\\ipykernel_1564\\683690603.py:12: SyntaxWarning: invalid escape sequence '\\s'\n",
      "  plt.xlabel('$\\sigma(r)$')\n"
     ]
    },
    {
     "data": {
      "text/plain": [
       "<Figure size 1200x700 with 1 Axes>"
      ],
      "image/png": "[encoded data removed]"
     },
     "metadata": {},
     "output_type": "display_data"
    }
   ],
   "execution_count": 15
  },
  {
   "cell_type": "code",
   "metadata": {
    "ExecuteTime": {
     "end_time": "2025-06-17T22:26:34.771195Z",
     "start_time": "2025-06-17T22:26:34.769076Z"
    }
   },
   "source": [],
   "outputs": [],
   "execution_count": null
  }
 ],
 "metadata": {
  "kernelspec": {
   "display_name": "Python 3 (ipykernel)",
   "language": "python",
   "name": "python3"
  },
  "language_info": {
   "codemirror_mode": {
    "name": "ipython",
    "version": 3
   },
   "file_extension": ".py",
   "mimetype": "text/x-python",
   "name": "python",
   "nbconvert_exporter": "python",
   "pygments_lexer": "ipython3",
   "version": "3.12.7"
  }
 },
 "nbformat": 4,
 "nbformat_minor": 4
}
