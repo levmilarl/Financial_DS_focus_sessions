{
 "cells": [
  {
   "cell_type": "markdown",
   "metadata": {},
   "source": [
    "# Constrained Minimum Variance Frontier"
   ]
  },
  {
   "cell_type": "markdown",
   "metadata": {},
   "source": [
    "\n",
    "## Guided Self-Study\n",
    "\n",
    "Students are encouraged to work through this worksheet at home. Alternatively, they can complete it during the Python Focus Session, where the Host will be available to provide guidance and support.\n"
   ]
  },
  {
   "cell_type": "markdown",
   "metadata": {},
   "source": [
    "## Background\n",
    "\n",
    "The Minimum Variance Frontier can be calculated with certain constraints applied to the portfolios that compose it. Recall that the Minimum Variance Frontier comprises all minimum variance portfolios corresponding to various target expected portfolio returns, denoted as $\\mu_i$.\n",
    "\n",
    "The approach involves iterating through a range of desired portfolio expected returns and conducting a numerical optimization for each of these returns to identify the optimal constrained Minimum Variance Frontier.\n",
    "\n",
    "In our example, we will apply two key constraints:\n",
    "\n",
    "- A no-shorting constraint (MU: note, bound for optimizer), where $w_j \\geq 0$ for each asset $j$.\n",
    "\n",
    "- A diversification constraint (MU: note, bound for optimizer), where no more than $50\\%$ of the total wealth is invested in any single asset $w_j \\leq 0.5$ for each asset $j$.\n",
    "\n",
    "## Getting Started\n",
    "\n",
    "To tackle this optimization problem, we will primarily use numpy for handling the algebraic aspects. Additionally, we will utilize the scipy.optimize package, which offers a convenient and robust framework for numerical optimization. Lastly, we'll employ matplotlib to visually present our results. Let's dive in and explore how these constraints shape the efficient frontier.\n",
    "\n",
    "## Settings: \n",
    "- 3 assets\n",
    "- Expected returns: 0.03, 0.06, 0.08\n",
    "- Standard deviation of returns: 0.04, 0.13, 0.16\n",
    "- Correlation: \n",
    "    0.1 (1 and 2), 0.2 (1 and 3), 0.7 (2 and 3)\n",
    "   \n"
   ]
  },
  {
   "cell_type": "code",
   "metadata": {
    "ExecuteTime": {
     "end_time": "2025-06-17T22:25:14.371828Z",
     "start_time": "2025-06-17T22:25:14.369296Z"
    }
   },
   "source": [
    "# Packages\n",
    "import scipy.optimize as optimize\n",
    "import numpy as np\n",
    "import matplotlib.pyplot as plt"
   ],
   "outputs": [],
   "execution_count": 42
  },
  {
   "cell_type": "code",
   "metadata": {
    "ExecuteTime": {
     "end_time": "2025-06-17T22:25:14.386273Z",
     "start_time": "2025-06-17T22:25:14.383769Z"
    }
   },
   "source": [
    "#Investment Opportunity Set\n",
    "mu = np.array([[0.03], [0.06], [0.08]])\n",
    "\n",
    "Sigma = np.array([ [0.04 ** 2 , 0.1 * 0.04 * 0.13, 0.2 * 0.04 * 0.16] ,\n",
    "                [0.1 * 0.04 * 0.13, 0.13 ** 2, 0.7 * 0.13 * 0.16],\n",
    "                [0.2 * 0.04 * 0.16, 0.7 * 0.13 * 0.16, 0.16 ** 2]])"
   ],
   "outputs": [],
   "execution_count": 43
  },
  {
   "cell_type": "code",
   "metadata": {
    "ExecuteTime": {
     "end_time": "2025-06-17T22:25:14.397629Z",
     "start_time": "2025-06-17T22:25:14.394609Z"
    }
   },
   "source": [
    "#SINGLE OPTIMIZATIONS: Objective Function, Constraint Function, Starting Values, Bounds\n",
    "\n",
    "def portfolio_variance(w):\n",
    "        #input: w as numpy column vector\n",
    "        #output: scalar\n",
    "    return  (w.T@Sigma@w).item() #objective function to be minimized\n",
    "\n",
    "\n",
    "def eq_portfolio_return(w):\n",
    "    #input: numpy portfolio column vector\n",
    "    #note: mu_i is a global variable; needs to be known before calling this function\n",
    "    #output: difference between w's expected return and the target return; scalar\n",
    "    \n",
    "    return  (w.T@mu).item() - mu_i#constraint to meet target expected return mu_i\n",
    "\n",
    "\n",
    "def eq_weight_sum(w): \n",
    "    #content: full investment constraint: 100% is invested in risky assets\n",
    "    #input: numpy portfolio column vector\n",
    "    #output: difference between sum of portfolio holdings and 100%=1. \n",
    "    \n",
    "    return np.sum(w) - 1\n",
    "\n",
    "\n",
    "# starting values\n",
    "w0 = np.array([0.3, 0.4, 0.3]) # note: starting values matter for the local optimizer as it is not a global optimizer. hence, try to use informative starting values\n",
    "\n",
    "#=========PLAYING AROUND with Starting Values===============================================\n",
    "#playing around: wrong w0 ==> awkward MV-frontier\n",
    "##w0 = [1.3, 0.4, 0.3] #use a starting value that does not fullfil at least one constraint and chances rise you get stuck in \"weired\" local optima\n",
    "##w0 = [0,0,0] # another example where \"silly\" starting value leads to \"silly\" constrained MV-F\n",
    "#=========END PLAYING AROUND===============================================\n",
    "\n",
    "#no short-sale (bound) and minimum diversification bound\n",
    "bounds = [(0, 0.5), (0, 0.5), (0, 0.5)]\n",
    "\n",
    "#======= PLAYING AROUND WITH BOUNDS TO SEE CONVERGENCE TO UNCONSTRAINED MV===\n",
    "#for playing around: proxy for unconstrained\n",
    "##bounds = [(-50, 50), (-50, 50), (-50, 50)]\n",
    "#========= END PLAYING AROUND =====================\n",
    "\n",
    "\n",
    "\n",
    "constraints = [{'type': 'eq', 'fun': eq_portfolio_return},\n",
    "               {'type': 'eq', 'fun': eq_weight_sum}\n",
    "               ] #target return and full investment constraint\n",
    "    \n"
   ],
   "outputs": [],
   "execution_count": 44
  },
  {
   "cell_type": "code",
   "metadata": {
    "ExecuteTime": {
     "end_time": "2025-06-17T22:25:14.406132Z",
     "start_time": "2025-06-17T22:25:14.401629Z"
    }
   },
   "source": [
    "#Loop through y-axis (i.e. mu_i)\n",
    "\n",
    "mu_min = 0.02\n",
    "mu_max = 0.2\n",
    "incr = 0.001"
   ],
   "outputs": [],
   "execution_count": 45
  },
  {
   "cell_type": "code",
   "metadata": {
    "ExecuteTime": {
     "end_time": "2025-06-17T22:25:14.421499Z",
     "start_time": "2025-06-17T22:25:14.418435Z"
    }
   },
   "source": [
    "#number of evaluations (i.e. number of optimizations)\n",
    "nr_evals = int(( mu_max - mu_min + 1 ) / incr)\n",
    "nr_evals #number of portfolios on the MV-frontier"
   ],
   "outputs": [
    {
     "data": {
      "text/plain": [
       "1180"
      ]
     },
     "execution_count": 46,
     "metadata": {},
     "output_type": "execute_result"
    }
   ],
   "execution_count": 46
  },
  {
   "cell_type": "code",
   "metadata": {
    "ExecuteTime": {
     "end_time": "2025-06-17T22:25:44.621404Z",
     "start_time": "2025-06-17T22:25:14.429727Z"
    }
   },
   "source": [
    "# MV-Frontier\n",
    "\n",
    "w_MV = np.zeros((nr_evals, 3))\n",
    "mu_MV = np.zeros(nr_evals)\n",
    "sigma_MV = np.zeros(nr_evals)\n",
    "\n",
    "mu_i = mu_min\n",
    "for i in range(nr_evals):\n",
    "    w_opt = optimize.minimize(portfolio_variance, w0, bounds=bounds, constraints=constraints)\n",
    "    w_MV[i] = w_opt.x\n",
    "    mu_MV[i] = (w_opt.x.T@mu).item()# mu_min + i * incr\n",
    "    sigma_MV[i] = (w_opt.x.T@Sigma@w_opt.x).item()**0.5\n",
    "    \n",
    "    mu_i = mu_i + incr"
   ],
   "outputs": [],
   "execution_count": 47
  },
  {
   "cell_type": "code",
   "metadata": {
    "ExecuteTime": {
     "end_time": "2025-06-17T22:25:44.730890Z",
     "start_time": "2025-06-17T22:25:44.631852Z"
    }
   },
   "source": [
    "# Plot MV-Frontier\n",
    "\n",
    "plt.figure(1, figsize=(12,7))\n",
    "\n",
    "#show the MV-frontier that obeys constraints and bounds\n",
    "plt.plot(sigma_MV, mu_MV, color='blue',label='Constrained MV-Frontier')\n",
    "\n",
    "# add single assets investment opportunities\n",
    "plt.scatter(np.diag(Sigma)**0.5, mu[:,0], s=20, color='black', label='Individual Assets')\n",
    "\n",
    "#descrive axis\n",
    "plt.xlabel('$\\sigma(r)$')\n",
    "plt.ylabel('$E[r]$')\n",
    "\n",
    "plt.legend()\n",
    "\n",
    "#add a title\n",
    "plt.title('Constrained Minimum Variance Frontier')\n",
    "plt.show()"
   ],
   "outputs": [
    {
     "name": "stderr",
     "output_type": "stream",
     "text": [
      "<>:12: SyntaxWarning: invalid escape sequence '\\s'\n",
      "<>:12: SyntaxWarning: invalid escape sequence '\\s'\n",
      "C:\\Users\\leven\\AppData\\Local\\Temp\\ipykernel_40836\\683690603.py:12: SyntaxWarning: invalid escape sequence '\\s'\n",
      "  plt.xlabel('$\\sigma(r)$')\n"
     ]
    },
    {
     "data": {
      "text/plain": [
       "<Figure size 1200x700 with 1 Axes>"
      ],
      "image/png": "[encoded data removed]"
     },
     "metadata": {},
     "output_type": "display_data"
    }
   ],
   "execution_count": 48
  },
  {
   "cell_type": "code",
   "metadata": {
    "ExecuteTime": {
     "end_time": "2025-06-17T22:25:44.741241Z",
     "start_time": "2025-06-17T22:25:44.739898Z"
    }
   },
   "source": [],
   "outputs": [],
   "execution_count": null
  },
  {
   "metadata": {
    "ExecuteTime": {
     "end_time": "2025-06-17T22:25:44.753907Z",
     "start_time": "2025-06-17T22:25:44.752493Z"
    }
   },
   "cell_type": "code",
   "source": "",
   "outputs": [],
   "execution_count": null
  },
  {
   "metadata": {
    "ExecuteTime": {
     "end_time": "2025-06-17T22:25:44.769194Z",
     "start_time": "2025-06-17T22:25:44.766995Z"
    }
   },
   "cell_type": "code",
   "source": "",
   "outputs": [],
   "execution_count": null
  },
  {
   "metadata": {
    "ExecuteTime": {
     "end_time": "2025-06-17T22:25:44.779223Z",
     "start_time": "2025-06-17T22:25:44.777206Z"
    }
   },
   "cell_type": "code",
   "source": "",
   "outputs": [],
   "execution_count": null
  },
  {
   "metadata": {
    "ExecuteTime": {
     "end_time": "2025-06-17T22:25:44.793286Z",
     "start_time": "2025-06-17T22:25:44.791040Z"
    }
   },
   "cell_type": "code",
   "source": "",
   "outputs": [],
   "execution_count": null
  },
  {
   "metadata": {
    "ExecuteTime": {
     "end_time": "2025-06-17T22:25:44.803016Z",
     "start_time": "2025-06-17T22:25:44.801548Z"
    }
   },
   "cell_type": "code",
   "source": "",
   "outputs": [],
   "execution_count": null
  }
 ],
 "metadata": {
  "kernelspec": {
   "display_name": "Python 3 (ipykernel)",
   "language": "python",
   "name": "python3"
  },
  "language_info": {
   "codemirror_mode": {
    "name": "ipython",
    "version": 3
   },
   "file_extension": ".py",
   "mimetype": "text/x-python",
   "name": "python",
   "nbconvert_exporter": "python",
   "pygments_lexer": "ipython3",
   "version": "3.12.7"
  }
 },
 "nbformat": 4,
 "nbformat_minor": 4
}
