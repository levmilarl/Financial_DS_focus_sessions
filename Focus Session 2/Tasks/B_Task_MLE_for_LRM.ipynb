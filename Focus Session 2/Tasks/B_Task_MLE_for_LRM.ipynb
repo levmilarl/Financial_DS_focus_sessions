{
 "cells": [
  {
   "cell_type": "markdown",
   "metadata": {},
   "source": [
    "# Re-cap on Implementing Maximum Likelihood Estimation in Python"
   ]
  },
  {
   "cell_type": "markdown",
   "metadata": {},
   "source": [
    "## Guided Self-Study\n",
    "\n",
    "Students are encouraged to work through this worksheet at home. Alternatively, they can complete it during the Python Focus Session, where the Host will be available to provide guidance and support.\n"
   ]
  },
  {
   "cell_type": "markdown",
   "metadata": {},
   "source": [
    "## Collection of online tutorials (skip if MLE and OLS is familiar)\n",
    "\n",
    "https://www.youtube.com/watch?v=DqKJBZUZ6iI&list=PLyQSjcv8LwAHTsOSV2WUiOCRtbZNCvBrh&index=12\n",
    "https://www.youtube.com/watch?v=dtbCo8QJk7U&list=PLyQSjcv8LwAHTsOSV2WUiOCRtbZNCvBrh&index=13\n",
    "https://www.youtube.com/watch?v=-q0D2rRNm64&list=PLyQSjcv8LwAHTsOSV2WUiOCRtbZNCvBrh&index=14"
   ]
  },
  {
   "cell_type": "markdown",
   "metadata": {},
   "source": [
    "## Fitting an AR(3) to the 3-month Spot Rate (Zero-Coupon Treasury Bond Rate of the USA); using OLS and MLE\n",
    "\n",
    "You obtain an xls file that contains a statonary time series. Estimate the model parameters using OLS and MLE. "
   ]
  },
  {
   "cell_type": "markdown",
   "metadata": {},
   "source": [
    "## From Scratch\n",
    " "
   ]
  },
  {
   "cell_type": "code",
   "metadata": {
    "ExecuteTime": {
     "end_time": "2025-06-19T12:46:16.905926Z",
     "start_time": "2025-06-19T12:46:05.390501Z"
    }
   },
   "source": [
    "# Packages\n",
    "\n",
    "# econometric work\n",
    "import numpy as np\n",
    "import pandas as pd\n",
    "\n",
    "#  optimization\n",
    "import scipy.optimize as sco\n",
    "\n",
    "# numerical differentiation  \n",
    "import numdifftools as nd\n",
    "\n",
    "# plotting  \n",
    "import matplotlib\n",
    "import matplotlib.pyplot as plt\n",
    "matplotlib.style.use('ggplot')"
   ],
   "outputs": [],
   "execution_count": 2
  },
  {
   "cell_type": "code",
   "metadata": {
    "ExecuteTime": {
     "end_time": "2025-06-19T12:49:33.116198Z",
     "start_time": "2025-06-19T12:49:33.061488Z"
    }
   },
   "source": [
    "# Data: Term Structure of Interest Rates\n",
    "\n",
    "data = pd.read_excel('data_AR3.xls', 'Rates')\n",
    "data = data.set_index('Date')\n",
    "\n",
    "# Load 3m yield, 1954 - 2006\n",
    "r = data[3]\n",
    "r.head()\n",
    "\n",
    "#delete what is not needed anymore\n",
    "del data\n",
    "\n",
    " "
   ],
   "outputs": [],
   "execution_count": 11
  },
  {
   "cell_type": "code",
   "metadata": {
    "ExecuteTime": {
     "end_time": "2025-06-19T13:20:09.556128Z",
     "start_time": "2025-06-19T13:20:09.535793Z"
    }
   },
   "source": [
    "# Prepare y and X for AR(3) model\n",
    "\n",
    "# Create lagged data\n",
    "nobs = len(r)\n",
    "rLag3 = r[0:nobs-3]\n",
    "rLag2 = r[1:nobs-2]\n",
    "rLag1 = r[2:nobs-1]\n",
    "\n",
    "\n",
    "# X and y\n",
    "y_df = r[3:nobs]\n",
    "y    = np.matrix(y_df)\n",
    "\n",
    "ones = np.ones(nobs - 3)\n",
    "X_df = pd.DataFrame(ones)\n",
    "X_df[\"rLag1\"] = rLag1.values\n",
    "X_df[\"rLag2\"] = rLag2.values\n",
    "X_df[\"rLag3\"] = rLag3.values\n",
    "X             = np.matrix(X_df)\n",
    "\n",
    "X"
   ],
   "outputs": [
    {
     "data": {
      "text/plain": [
       "matrix([[1.  , 0.64, 0.76, 0.97],\n",
       "        [1.  , 0.72, 0.64, 0.76],\n",
       "        [1.  , 0.92, 0.72, 0.64],\n",
       "        ...,\n",
       "        [1.  , 4.24, 3.89, 3.88],\n",
       "        [1.  , 4.43, 4.24, 3.89],\n",
       "        [1.  , 4.51, 4.43, 4.24]], shape=(622, 4))"
      ]
     },
     "execution_count": 15,
     "metadata": {},
     "output_type": "execute_result"
    }
   ],
   "execution_count": 15
  },
  {
   "cell_type": "code",
   "execution_count": null,
   "metadata": {},
   "outputs": [],
   "source": [
    "# OLS without statsmodels package\n",
    "\n",
    "y = \n",
    "\n",
    "# OLS parameter estimate\n",
    "xpxi = \n",
    "Bhat = \n",
    "\n",
    "# prediction error  \n",
    "ehat = \n",
    "\n",
    "# vol of prediction error\n",
    "std_e = \n",
    "\n",
    "# \n",
    "# s.e.(OLS parameter estimate)\n",
    "se_Bhat = \n",
    " \n",
    "# Print parameters and corresponding standard errors\n"
   ]
  },
  {
   "cell_type": "code",
   "execution_count": null,
   "metadata": {},
   "outputs": [],
   "source": [
    "# MLE without statsmodels package\n",
    "\n",
    "T = \n",
    "nVars = \n",
    "\n",
    "\n",
    "# Set starting values\n",
    "B_0 = np.zeros(nVars+1) #vol of prediction error is the additional parameter\n",
    "B_0[nVars] = 0.41       #start value for variance of prediction error\n",
    "\n",
    "# Define the -1 * (log) likelihood function as a function of B_0\n",
    "def _lnL(B_0):\n",
    "\n",
    "  \n",
    "    return \n",
    "\n",
    "\n",
    "# Define settings for optimization\n",
    "# Note, estimator for sigma can only be positive\n",
    "\n",
    "# set lower bounds\n",
    "lb = \n",
    "lb[nVars] = \n",
    "\n",
    "# set upper bounds:\n",
    "ub = \n",
    " \n",
    "\n",
    "# Define bounds\n",
    "bnds = tuple( for x in range())\n",
    "\n",
    "# Perform optimization\n",
    "results = \n",
    "\n",
    "#MLE estimates\n",
    "BhatMLE = \n",
    "print('MLE Estimates:')\n",
    "print(BhatMLE)\n",
    "\n",
    "#MLE standard errors using Hessian and numerical differentiation\n",
    "hess = \n",
    "hess_eval = \n",
    "se_hess = \n",
    "print('MLE s.e.')\n",
    "print(np.round(se_hess, 4))\n"
   ]
  },
  {
   "cell_type": "code",
   "execution_count": null,
   "metadata": {},
   "outputs": [],
   "source": []
  },
  {
   "cell_type": "markdown",
   "metadata": {},
   "source": [
    "## Re-Do from Scratch in an Object-oriented Way"
   ]
  },
  {
   "cell_type": "code",
   "execution_count": null,
   "metadata": {},
   "outputs": [],
   "source": [
    "# Class OLS\n",
    "\n",
    "class OLS(object):\n",
    "\n",
    "    def __init__(self, Y, X, const = True):\n",
    "        self.Y = Y\n",
    "        self.X = X\n",
    "        \n",
    "        if (const == True):\n",
    "            self.X = np.insert(self.X, obj = 0, values = 1, axis = 1)\n",
    "\n",
    "\n",
    "\n",
    "    def run_OLS(self, summary = True):\n",
    "        \n",
    "        #beta_ols\n",
    "       \n",
    "        #projection\n",
    "        \n",
    "        #residual\n",
    "       \n",
    "        #cov of estimates\n",
    "       \n",
    "        #s.e.(ols estimates)\n",
    "      \n",
    "        #t(ols estimates)\n",
    "       \n",
    "        #R^2: 1 - Sum res**2 / Sum (y - y_hat)**2\n",
    "        \n",
    "\n",
    "        # Set object variables\n",
    "        self.beta = \n",
    "        self.resid = \n",
    "        self.tstat = \n",
    "        self.rsqr = \n",
    "\n",
    "        # Print results\n",
    "        if (summary == True):\n",
    "            print('Betas: ', beta)\n",
    "            print('t-stats: ', tstat)\n",
    "            print('R^2: ', rsqr)\n",
    "\n",
    "        else:\n",
    "            # return results as numpy arrays. The ravel function \"flattens\" array into a one-dimensional array\n",
    "            return self.beta.ravel(), self.resid.ravel(), self.tstat.ravel(), self.rsqr.ravel()\n"
   ]
  },
  {
   "cell_type": "code",
   "execution_count": null,
   "metadata": {},
   "outputs": [],
   "source": [
    "# test class OLS\n",
    "OLS_ = OLS(\n",
    "OLS_.run_OLS("
   ]
  },
  {
   "cell_type": "code",
   "execution_count": null,
   "metadata": {},
   "outputs": [],
   "source": [
    "# Class MLE\n",
    "\n",
    "class MLE(object):\n",
    "\n",
    "    def __init__():\n",
    "       \n",
    "        \n",
    "    def _likelihood(): #[parameter, variance], negative_logLikelihood\n",
    "        \n",
    "        return -likeli\n",
    "\n",
    "\n",
    "    def estimate(self):\n",
    "        \n",
    "\n",
    "    # get estimated parameters\n",
    "    def getResults(self, summary = True):\n",
    "        if summary:\n",
    "            print('Betas: ', self.beta)\n",
    "            print('Sigma2: ', self.sigma2)\n",
    "            print('t-stats: ', self.tstat)\n",
    "        else:\n",
    "            return self.beta.ravel(), self.sigma.ravel(), self.tstat.ravel()"
   ]
  },
  {
   "cell_type": "code",
   "execution_count": null,
   "metadata": {},
   "outputs": [],
   "source": [
    "# test class MLE\n",
    "MLE_ = "
   ]
  },
  {
   "cell_type": "code",
   "execution_count": null,
   "metadata": {},
   "outputs": [],
   "source": []
  }
 ],
 "metadata": {
  "kernelspec": {
   "display_name": "Python 3 (ipykernel)",
   "language": "python",
   "name": "python3"
  },
  "language_info": {
   "codemirror_mode": {
    "name": "ipython",
    "version": 3
   },
   "file_extension": ".py",
   "mimetype": "text/x-python",
   "name": "python",
   "nbconvert_exporter": "python",
   "pygments_lexer": "ipython3",
   "version": "3.12.7"
  }
 },
 "nbformat": 4,
 "nbformat_minor": 4
}
