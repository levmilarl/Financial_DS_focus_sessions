{
 "cells": [
  {
   "cell_type": "markdown",
   "metadata": {},
   "source": [
    "# Numerical Optimization of an AR(2)-GARCH(1,1) Gaussian Likelihood Function\n",
    "\n",
    "In this exercise, you will estimate the parameters of an AR(2)-GARCH(1,1) model using **maximum likelihood**.\n",
    "\n",
    "---\n",
    "\n",
    "### Context\n",
    "\n",
    "Prices and returns are observed. However, the (ex-ante) return variance $Var_t(r_{t+1})$ is **not** observable.\n",
    "\n",
    "Estimating $Var_t(r_{t+1})$ is essential in both academia and industry — particularly for:\n",
    "\n",
    "- **Risk management**\n",
    "- **Asset allocation**\n",
    "\n",
    "Ordinary Least Squares (OLS) cannot be used to estimate this time-varying variance, but **Maximum Likelihood Estimation (MLE)** provides a powerful alternative.\n",
    "\n",
    "To apply MLE, we:\n",
    "\n",
    "1. Specify a model (in this case: AR(2)-GARCH(1,1))\n",
    "2. Write down the **likelihood function**\n",
    "3. Implement an algorithm to **maximize the likelihood** (or minimize the negative log-likelihood)\n",
    "\n",
    "This notebook walks you through each of these steps.\n"
   ]
  },
  {
   "cell_type": "code",
   "execution_count": null,
   "metadata": {},
   "outputs": [],
   "source": []
  },
  {
   "cell_type": "markdown",
   "metadata": {},
   "source": [
    "### Get daily return data"
   ]
  },
  {
   "cell_type": "code",
   "metadata": {
    "ExecuteTime": {
     "end_time": "2025-06-19T14:14:19.484829Z",
     "start_time": "2025-06-19T14:14:03.543657Z"
    }
   },
   "source": [
    "import numpy as np\n",
    "import pandas as pd\n",
    "import statsmodels.api as sm\n",
    "from arch import arch_model\n",
    "import math\n",
    "import matplotlib.pyplot as plt\n",
    "import scipy.optimize as sco\n",
    "from statsmodels.tsa.arima_model import ARMA"
   ],
   "outputs": [],
   "execution_count": 1
  },
  {
   "cell_type": "code",
   "metadata": {
    "ExecuteTime": {
     "end_time": "2025-06-19T14:14:22.020744Z",
     "start_time": "2025-06-19T14:14:21.798847Z"
    }
   },
   "source": [
    "df = pd.read_csv(\"r_ES50_d_cleaned_realized.csv\", index_col=\"Date\")"
   ],
   "outputs": [],
   "execution_count": 2
  },
  {
   "cell_type": "code",
   "metadata": {
    "ExecuteTime": {
     "end_time": "2025-06-19T14:14:24.896111Z",
     "start_time": "2025-06-19T14:14:24.855967Z"
    }
   },
   "source": [
    "df"
   ],
   "outputs": [
    {
     "data": {
      "text/plain": [
       "              ADS.DE     AI.PA    ALV.DE   ASML.AS     CS.PA   BBVA.MC  \\\n",
       "Date                                                                     \n",
       "2000-01-05 -0.023996 -0.009332 -0.004736 -0.100229 -0.015385 -0.022708   \n",
       "2000-01-06  0.041964  0.069408  0.040316 -0.072511 -0.007782  0.006279   \n",
       "2000-01-07 -0.013793 -0.012318  0.027432  0.072005  0.030772  0.006240   \n",
       "2000-01-10  0.015025 -0.035451  0.005750  0.069533  0.000000 -0.016227   \n",
       "2000-01-11 -0.009347 -0.009217 -0.009157  0.012224 -0.022990 -0.020279   \n",
       "...              ...       ...       ...       ...       ...       ...   \n",
       "2020-06-25  0.009711  0.005137  0.015274  0.000777  0.008762  0.012781   \n",
       "2020-06-26 -0.021232 -0.005930 -0.015387  0.006192 -0.002372 -0.024058   \n",
       "2020-06-29 -0.006891  0.011041  0.012395 -0.005571  0.005061  0.027633   \n",
       "2020-06-30  0.009462  0.007034  0.008509  0.014482 -0.000430 -0.005858   \n",
       "2020-07-01 -0.005150 -0.006642 -0.019220 -0.005675 -0.016905 -0.025786   \n",
       "\n",
       "              SAN.MC    BAS.DE   BAYN.DE    BMW.DE  ...     SU.PA    SIE.DE  \\\n",
       "Date                                                ...                       \n",
       "2000-01-05 -0.024598 -0.038939 -0.026907 -0.019987  ... -0.042903 -0.034424   \n",
       "2000-01-06  0.000000  0.003755  0.003403 -0.003249  ...  0.049442 -0.012306   \n",
       "2000-01-07  0.043328  0.040197  0.040830 -0.001810  ...  0.018089  0.039441   \n",
       "2000-01-10 -0.008872  0.004390  0.035670  0.039081  ... -0.016786  0.057803   \n",
       "2000-01-11 -0.034456 -0.045421 -0.030031 -0.003490  ... -0.039170  0.006872   \n",
       "...              ...       ...       ...       ...  ...       ...       ...   \n",
       "2020-06-25  0.024750  0.001007 -0.029875  0.015893  ...  0.005816  0.008457   \n",
       "2020-06-26 -0.031093 -0.020328 -0.016924 -0.023218  ...  0.007634 -0.002746   \n",
       "2020-06-29  0.039511  0.029043  0.001646  0.016714  ...  0.013272  0.018099   \n",
       "2020-06-30 -0.014835 -0.005000 -0.016731  0.001938  ...  0.002836  0.010170   \n",
       "2020-07-01 -0.021381 -0.024147 -0.002435 -0.014715  ... -0.017548 -0.013067   \n",
       "\n",
       "              TEF.MC     FP.PA    URW.AS    UNA.AS     DG.PA    VIV.PA  \\\n",
       "Date                                                                     \n",
       "2000-01-05 -0.047851 -0.025479 -0.000945  0.021525  0.022467 -0.024392   \n",
       "2000-01-06  0.000874 -0.029461  0.029561  0.036187  0.032790 -0.011798   \n",
       "2000-01-07  0.000873  0.004971 -0.006212  0.014364  0.031750  0.008088   \n",
       "2000-01-10  0.029700  0.000826  0.010789 -0.011506 -0.042558  0.086030   \n",
       "2000-01-11  0.000849  0.007404  0.004556 -0.012549  0.042558  0.018587   \n",
       "...              ...       ...       ...       ...       ...       ...   \n",
       "2020-06-25  0.023065  0.007984  0.021723 -0.001435  0.011280  0.008270   \n",
       "2020-06-26 -0.020212 -0.001848 -0.052789  0.006543 -0.008571 -0.003039   \n",
       "2020-06-29  0.024855  0.002463  0.011663 -0.025595  0.017311  0.008658   \n",
       "2020-06-30 -0.016579 -0.016783  0.002795 -0.012200 -0.008984 -0.015639   \n",
       "2020-07-01 -0.019737 -0.007682 -0.032830 -0.003604 -0.012023 -0.009679   \n",
       "\n",
       "              VOW.DE       1/N  \n",
       "Date                            \n",
       "2000-01-05 -0.037946 -0.022821  \n",
       "2000-01-06 -0.004413  0.006099  \n",
       "2000-01-07  0.028438  0.023823  \n",
       "2000-01-10  0.002800  0.009664  \n",
       "2000-01-11  0.015536 -0.004634  \n",
       "...              ...       ...  \n",
       "2020-06-25  0.018981  0.008056  \n",
       "2020-06-26 -0.009094 -0.007704  \n",
       "2020-06-29  0.010486  0.012619  \n",
       "2020-06-30 -0.003483 -0.001748  \n",
       "2020-07-01 -0.011934 -0.013222  \n",
       "\n",
       "[5285 rows x 44 columns]"
      ],
      "text/html": [
       "<div>\n",
       "<style scoped>\n",
       "    .dataframe tbody tr th:only-of-type {\n",
       "        vertical-align: middle;\n",
       "    }\n",
       "\n",
       "    .dataframe tbody tr th {\n",
       "        vertical-align: top;\n",
       "    }\n",
       "\n",
       "    .dataframe thead th {\n",
       "        text-align: right;\n",
       "    }\n",
       "</style>\n",
       "<table border=\"1\" class=\"dataframe\">\n",
       "  <thead>\n",
       "    <tr style=\"text-align: right;\">\n",
       "      <th></th>\n",
       "      <th>ADS.DE</th>\n",
       "      <th>AI.PA</th>\n",
       "      <th>ALV.DE</th>\n",
       "      <th>ASML.AS</th>\n",
       "      <th>CS.PA</th>\n",
       "      <th>BBVA.MC</th>\n",
       "      <th>SAN.MC</th>\n",
       "      <th>BAS.DE</th>\n",
       "      <th>BAYN.DE</th>\n",
       "      <th>BMW.DE</th>\n",
       "      <th>...</th>\n",
       "      <th>SU.PA</th>\n",
       "      <th>SIE.DE</th>\n",
       "      <th>TEF.MC</th>\n",
       "      <th>FP.PA</th>\n",
       "      <th>URW.AS</th>\n",
       "      <th>UNA.AS</th>\n",
       "      <th>DG.PA</th>\n",
       "      <th>VIV.PA</th>\n",
       "      <th>VOW.DE</th>\n",
       "      <th>1/N</th>\n",
       "    </tr>\n",
       "    <tr>\n",
       "      <th>Date</th>\n",
       "      <th></th>\n",
       "      <th></th>\n",
       "      <th></th>\n",
       "      <th></th>\n",
       "      <th></th>\n",
       "      <th></th>\n",
       "      <th></th>\n",
       "      <th></th>\n",
       "      <th></th>\n",
       "      <th></th>\n",
       "      <th></th>\n",
       "      <th></th>\n",
       "      <th></th>\n",
       "      <th></th>\n",
       "      <th></th>\n",
       "      <th></th>\n",
       "      <th></th>\n",
       "      <th></th>\n",
       "      <th></th>\n",
       "      <th></th>\n",
       "      <th></th>\n",
       "    </tr>\n",
       "  </thead>\n",
       "  <tbody>\n",
       "    <tr>\n",
       "      <th>2000-01-05</th>\n",
       "      <td>-0.023996</td>\n",
       "      <td>-0.009332</td>\n",
       "      <td>-0.004736</td>\n",
       "      <td>-0.100229</td>\n",
       "      <td>-0.015385</td>\n",
       "      <td>-0.022708</td>\n",
       "      <td>-0.024598</td>\n",
       "      <td>-0.038939</td>\n",
       "      <td>-0.026907</td>\n",
       "      <td>-0.019987</td>\n",
       "      <td>...</td>\n",
       "      <td>-0.042903</td>\n",
       "      <td>-0.034424</td>\n",
       "      <td>-0.047851</td>\n",
       "      <td>-0.025479</td>\n",
       "      <td>-0.000945</td>\n",
       "      <td>0.021525</td>\n",
       "      <td>0.022467</td>\n",
       "      <td>-0.024392</td>\n",
       "      <td>-0.037946</td>\n",
       "      <td>-0.022821</td>\n",
       "    </tr>\n",
       "    <tr>\n",
       "      <th>2000-01-06</th>\n",
       "      <td>0.041964</td>\n",
       "      <td>0.069408</td>\n",
       "      <td>0.040316</td>\n",
       "      <td>-0.072511</td>\n",
       "      <td>-0.007782</td>\n",
       "      <td>0.006279</td>\n",
       "      <td>0.000000</td>\n",
       "      <td>0.003755</td>\n",
       "      <td>0.003403</td>\n",
       "      <td>-0.003249</td>\n",
       "      <td>...</td>\n",
       "      <td>0.049442</td>\n",
       "      <td>-0.012306</td>\n",
       "      <td>0.000874</td>\n",
       "      <td>-0.029461</td>\n",
       "      <td>0.029561</td>\n",
       "      <td>0.036187</td>\n",
       "      <td>0.032790</td>\n",
       "      <td>-0.011798</td>\n",
       "      <td>-0.004413</td>\n",
       "      <td>0.006099</td>\n",
       "    </tr>\n",
       "    <tr>\n",
       "      <th>2000-01-07</th>\n",
       "      <td>-0.013793</td>\n",
       "      <td>-0.012318</td>\n",
       "      <td>0.027432</td>\n",
       "      <td>0.072005</td>\n",
       "      <td>0.030772</td>\n",
       "      <td>0.006240</td>\n",
       "      <td>0.043328</td>\n",
       "      <td>0.040197</td>\n",
       "      <td>0.040830</td>\n",
       "      <td>-0.001810</td>\n",
       "      <td>...</td>\n",
       "      <td>0.018089</td>\n",
       "      <td>0.039441</td>\n",
       "      <td>0.000873</td>\n",
       "      <td>0.004971</td>\n",
       "      <td>-0.006212</td>\n",
       "      <td>0.014364</td>\n",
       "      <td>0.031750</td>\n",
       "      <td>0.008088</td>\n",
       "      <td>0.028438</td>\n",
       "      <td>0.023823</td>\n",
       "    </tr>\n",
       "    <tr>\n",
       "      <th>2000-01-10</th>\n",
       "      <td>0.015025</td>\n",
       "      <td>-0.035451</td>\n",
       "      <td>0.005750</td>\n",
       "      <td>0.069533</td>\n",
       "      <td>0.000000</td>\n",
       "      <td>-0.016227</td>\n",
       "      <td>-0.008872</td>\n",
       "      <td>0.004390</td>\n",
       "      <td>0.035670</td>\n",
       "      <td>0.039081</td>\n",
       "      <td>...</td>\n",
       "      <td>-0.016786</td>\n",
       "      <td>0.057803</td>\n",
       "      <td>0.029700</td>\n",
       "      <td>0.000826</td>\n",
       "      <td>0.010789</td>\n",
       "      <td>-0.011506</td>\n",
       "      <td>-0.042558</td>\n",
       "      <td>0.086030</td>\n",
       "      <td>0.002800</td>\n",
       "      <td>0.009664</td>\n",
       "    </tr>\n",
       "    <tr>\n",
       "      <th>2000-01-11</th>\n",
       "      <td>-0.009347</td>\n",
       "      <td>-0.009217</td>\n",
       "      <td>-0.009157</td>\n",
       "      <td>0.012224</td>\n",
       "      <td>-0.022990</td>\n",
       "      <td>-0.020279</td>\n",
       "      <td>-0.034456</td>\n",
       "      <td>-0.045421</td>\n",
       "      <td>-0.030031</td>\n",
       "      <td>-0.003490</td>\n",
       "      <td>...</td>\n",
       "      <td>-0.039170</td>\n",
       "      <td>0.006872</td>\n",
       "      <td>0.000849</td>\n",
       "      <td>0.007404</td>\n",
       "      <td>0.004556</td>\n",
       "      <td>-0.012549</td>\n",
       "      <td>0.042558</td>\n",
       "      <td>0.018587</td>\n",
       "      <td>0.015536</td>\n",
       "      <td>-0.004634</td>\n",
       "    </tr>\n",
       "    <tr>\n",
       "      <th>...</th>\n",
       "      <td>...</td>\n",
       "      <td>...</td>\n",
       "      <td>...</td>\n",
       "      <td>...</td>\n",
       "      <td>...</td>\n",
       "      <td>...</td>\n",
       "      <td>...</td>\n",
       "      <td>...</td>\n",
       "      <td>...</td>\n",
       "      <td>...</td>\n",
       "      <td>...</td>\n",
       "      <td>...</td>\n",
       "      <td>...</td>\n",
       "      <td>...</td>\n",
       "      <td>...</td>\n",
       "      <td>...</td>\n",
       "      <td>...</td>\n",
       "      <td>...</td>\n",
       "      <td>...</td>\n",
       "      <td>...</td>\n",
       "      <td>...</td>\n",
       "    </tr>\n",
       "    <tr>\n",
       "      <th>2020-06-25</th>\n",
       "      <td>0.009711</td>\n",
       "      <td>0.005137</td>\n",
       "      <td>0.015274</td>\n",
       "      <td>0.000777</td>\n",
       "      <td>0.008762</td>\n",
       "      <td>0.012781</td>\n",
       "      <td>0.024750</td>\n",
       "      <td>0.001007</td>\n",
       "      <td>-0.029875</td>\n",
       "      <td>0.015893</td>\n",
       "      <td>...</td>\n",
       "      <td>0.005816</td>\n",
       "      <td>0.008457</td>\n",
       "      <td>0.023065</td>\n",
       "      <td>0.007984</td>\n",
       "      <td>0.021723</td>\n",
       "      <td>-0.001435</td>\n",
       "      <td>0.011280</td>\n",
       "      <td>0.008270</td>\n",
       "      <td>0.018981</td>\n",
       "      <td>0.008056</td>\n",
       "    </tr>\n",
       "    <tr>\n",
       "      <th>2020-06-26</th>\n",
       "      <td>-0.021232</td>\n",
       "      <td>-0.005930</td>\n",
       "      <td>-0.015387</td>\n",
       "      <td>0.006192</td>\n",
       "      <td>-0.002372</td>\n",
       "      <td>-0.024058</td>\n",
       "      <td>-0.031093</td>\n",
       "      <td>-0.020328</td>\n",
       "      <td>-0.016924</td>\n",
       "      <td>-0.023218</td>\n",
       "      <td>...</td>\n",
       "      <td>0.007634</td>\n",
       "      <td>-0.002746</td>\n",
       "      <td>-0.020212</td>\n",
       "      <td>-0.001848</td>\n",
       "      <td>-0.052789</td>\n",
       "      <td>0.006543</td>\n",
       "      <td>-0.008571</td>\n",
       "      <td>-0.003039</td>\n",
       "      <td>-0.009094</td>\n",
       "      <td>-0.007704</td>\n",
       "    </tr>\n",
       "    <tr>\n",
       "      <th>2020-06-29</th>\n",
       "      <td>-0.006891</td>\n",
       "      <td>0.011041</td>\n",
       "      <td>0.012395</td>\n",
       "      <td>-0.005571</td>\n",
       "      <td>0.005061</td>\n",
       "      <td>0.027633</td>\n",
       "      <td>0.039511</td>\n",
       "      <td>0.029043</td>\n",
       "      <td>0.001646</td>\n",
       "      <td>0.016714</td>\n",
       "      <td>...</td>\n",
       "      <td>0.013272</td>\n",
       "      <td>0.018099</td>\n",
       "      <td>0.024855</td>\n",
       "      <td>0.002463</td>\n",
       "      <td>0.011663</td>\n",
       "      <td>-0.025595</td>\n",
       "      <td>0.017311</td>\n",
       "      <td>0.008658</td>\n",
       "      <td>0.010486</td>\n",
       "      <td>0.012619</td>\n",
       "    </tr>\n",
       "    <tr>\n",
       "      <th>2020-06-30</th>\n",
       "      <td>0.009462</td>\n",
       "      <td>0.007034</td>\n",
       "      <td>0.008509</td>\n",
       "      <td>0.014482</td>\n",
       "      <td>-0.000430</td>\n",
       "      <td>-0.005858</td>\n",
       "      <td>-0.014835</td>\n",
       "      <td>-0.005000</td>\n",
       "      <td>-0.016731</td>\n",
       "      <td>0.001938</td>\n",
       "      <td>...</td>\n",
       "      <td>0.002836</td>\n",
       "      <td>0.010170</td>\n",
       "      <td>-0.016579</td>\n",
       "      <td>-0.016783</td>\n",
       "      <td>0.002795</td>\n",
       "      <td>-0.012200</td>\n",
       "      <td>-0.008984</td>\n",
       "      <td>-0.015639</td>\n",
       "      <td>-0.003483</td>\n",
       "      <td>-0.001748</td>\n",
       "    </tr>\n",
       "    <tr>\n",
       "      <th>2020-07-01</th>\n",
       "      <td>-0.005150</td>\n",
       "      <td>-0.006642</td>\n",
       "      <td>-0.019220</td>\n",
       "      <td>-0.005675</td>\n",
       "      <td>-0.016905</td>\n",
       "      <td>-0.025786</td>\n",
       "      <td>-0.021381</td>\n",
       "      <td>-0.024147</td>\n",
       "      <td>-0.002435</td>\n",
       "      <td>-0.014715</td>\n",
       "      <td>...</td>\n",
       "      <td>-0.017548</td>\n",
       "      <td>-0.013067</td>\n",
       "      <td>-0.019737</td>\n",
       "      <td>-0.007682</td>\n",
       "      <td>-0.032830</td>\n",
       "      <td>-0.003604</td>\n",
       "      <td>-0.012023</td>\n",
       "      <td>-0.009679</td>\n",
       "      <td>-0.011934</td>\n",
       "      <td>-0.013222</td>\n",
       "    </tr>\n",
       "  </tbody>\n",
       "</table>\n",
       "<p>5285 rows × 44 columns</p>\n",
       "</div>"
      ]
     },
     "execution_count": 3,
     "metadata": {},
     "output_type": "execute_result"
    }
   ],
   "execution_count": 3
  },
  {
   "cell_type": "code",
   "metadata": {
    "ExecuteTime": {
     "end_time": "2025-06-19T14:18:03.991585Z",
     "start_time": "2025-06-19T14:18:03.981195Z"
    }
   },
   "source": [
    "r_t = df['ADS.DE'] #adidas returns"
   ],
   "outputs": [],
   "execution_count": 4
  },
  {
   "cell_type": "code",
   "execution_count": 7,
   "metadata": {},
   "outputs": [
    {
     "data": {
      "text/plain": [
       "<Axes: xlabel='Date'>"
      ]
     },
     "execution_count": 7,
     "metadata": {},
     "output_type": "execute_result"
    },
    {
     "data": {
      "image/png": "[encoded data removed]",
      "text/plain": [
       "<Figure size 640x480 with 1 Axes>"
      ]
     },
     "metadata": {},
     "output_type": "display_data"
    }
   ],
   "source": [
    "r_t.plot()"
   ]
  },
  {
   "cell_type": "markdown",
   "metadata": {},
   "source": [
    "### Model"
   ]
  },
  {
   "cell_type": "markdown",
   "metadata": {},
   "source": [
    "Previous exercise found the optimal AR-lag is 2 for Adidas daily returns. Hence, in the following we are going to use an AR(2) to model the mean equation and additionally add a GARCH(1,1) to model the conditional variance. "
   ]
  },
  {
   "cell_type": "markdown",
   "metadata": {},
   "source": [
    "The Conditionally Gaussian Log Likelhood Function (not part of FDS) is shown here: \n",
    "\n",
    "    \n",
    "\\begin{align*}\n",
    "ln L([\\phi_0, \\phi_1, \\phi_2, \\alpha_0, \\alpha_1, \\beta_1]\\; | \\; [r_1, ..., r_T]) := & \\sum_{t=3}^T \\left( -\\frac{1}{2} \\ln (2\\pi) - \\frac{1}{2} \\ln ( \\sigma^2_{t-1} ) - \\frac{1}{2} \\, \\frac{\\epsilon^2_t}{ \\sigma^2_{t-1}  } \\right)   \\\\ \\\\\n",
    "\\epsilon_t & \\equiv r_t - \\phi_0 - \\phi_1 r_{t-1} - \\phi_2 r_{t-2}, \\\\ \\\\\n",
    "\\sigma^2_{t-1} & \\equiv  \\alpha_0 + \\alpha_1 \\, \\times \\, \\epsilon^2_{t-1} \\, + \\,  \\beta_1 \\, \\times \\, \\sigma^2_{t-2} \\\\ \\\\\n",
    "&  \\sigma^2_{1} \\equiv \\frac{\\alpha_0}{ 1 - \\alpha_1 -  \\beta_1}.\n",
    "\\end{align*}  "
   ]
  },
  {
   "cell_type": "code",
   "execution_count": null,
   "metadata": {},
   "outputs": [],
   "source": []
  },
  {
   "cell_type": "markdown",
   "metadata": {},
   "source": [
    "**Handmade MLE**"
   ]
  },
  {
   "cell_type": "code",
   "execution_count": 12,
   "metadata": {},
   "outputs": [],
   "source": [
    "\n",
    "# MLE estimation of AR(2)-GARCH(1, 1) model\n",
    "# -------------------------------------------------\n",
    "\n",
    "def garch_1_1_variance(alpha_0, alpha_1, beta_1, epsilon_t):\n",
    "    sigma2_tmin1 = np.zeros(epsilon_t.shape[0] - 1)\n",
    "    sigma2_tmin1[0] = alpha_0 / (1 - alpha_1 - beta_1)\n",
    "    \n",
    "    for t in range(1, len(sigma2_tmin1)):\n",
    "        sigma2_tmin1[t] = alpha_0 + alpha_1 * epsilon_t[t]**2 + beta_1 * sigma2_tmin1[t-1]\n",
    "    \n",
    "    return sigma2_tmin1\n",
    "    \n",
    "\n",
    "def Neg_loglikelihood_ar2_Garch11(parameters):\n",
    "    phi_0 = parameters[0]\n",
    "    phi_1 = parameters[1]\n",
    "    phi_2 = parameters[2]\n",
    "    alpha_0 = parameters[3]\n",
    "    alpha_1 = parameters[4]\n",
    "    beta_1 = parameters[5]\n",
    "  \n",
    "    mean_ar2_prediction_t = phi_0 + phi_1 * r_t.iloc[1:-1].values + phi_2 * r_t.iloc[:-2].values\n",
    "    eps_t = r_t.iloc[2:].values - mean_ar2_prediction_t\n",
    "    var_garch11_tmin1 = garch_1_1_variance(alpha_0, alpha_1, beta_1, eps_t)\n",
    "            \n",
    "    lnL = np.sum(-0.5 * np.log(2. * np.pi * var_garch11_tmin1) - 0.5 * (eps_t[1:])**2 / (var_garch11_tmin1))\n",
    "    \n",
    "    return -1. * lnL"
   ]
  },
  {
   "cell_type": "markdown",
   "metadata": {},
   "source": [
    "**Smart MLE Starting Values: OLS AR(2) and Rule of Thumb for Vol**_\n"
   ]
  },
  {
   "cell_type": "code",
   "execution_count": 14,
   "metadata": {},
   "outputs": [],
   "source": [
    "def lagged_data(data, lags):\n",
    "    nobs = data.shape[0]\n",
    "    y_lag = data[lags:nobs]\n",
    "    x_lag = np.matrix(np.zeros((nobs-lags)*lags).reshape((nobs-lags),lags))\n",
    "    for i in range(1, lags+1):\n",
    "        x_lag[:,i-1] = data[(lags-i):(nobs-i)].reshape(nobs-lags, 1)\n",
    "        \n",
    "    return x_lag, y_lag\n",
    "\n",
    "x,y = lagged_data(r_t.values, 2)"
   ]
  },
  {
   "cell_type": "code",
   "execution_count": 15,
   "metadata": {},
   "outputs": [],
   "source": [
    "# OLS:  r_t = const + beta1 * r_(t-1) + beta2 * r_(t-2) + eps\n",
    "\n",
    "x = sm.add_constant(x)\n",
    "ar_start=sm.OLS(y, x).fit()"
   ]
  },
  {
   "cell_type": "code",
   "execution_count": 16,
   "metadata": {},
   "outputs": [],
   "source": [
    "phi_start_params = ar_start.params\n",
    "phi0_start = phi_start_params[0]\n",
    "phi1_start = phi_start_params[1]\n",
    "phi2_start = phi_start_params[2]"
   ]
  },
  {
   "cell_type": "code",
   "execution_count": 17,
   "metadata": {},
   "outputs": [],
   "source": [
    "# start values for Adidas return variance\n",
    "alpha0_start = 0.0001\n",
    "alpha1_start = 0.15\n",
    "beta1_start = 0.8"
   ]
  },
  {
   "cell_type": "markdown",
   "metadata": {},
   "source": [
    "**Execute handmade MLE**"
   ]
  },
  {
   "cell_type": "code",
   "execution_count": 19,
   "metadata": {},
   "outputs": [],
   "source": [
    "ar_garch_params_start = [phi0_start, phi1_start, phi2_start, alpha0_start, alpha1_start, beta1_start] #starting values\n",
    "ar_garch_params = sco.minimize(Neg_loglikelihood_ar2_Garch11, ar_garch_params_start, method='Nelder-Mead') #fit mle model"
   ]
  },
  {
   "cell_type": "code",
   "execution_count": 20,
   "metadata": {},
   "outputs": [
    {
     "data": {
      "text/plain": [
       "       message: Optimization terminated successfully.\n",
       "       success: True\n",
       "        status: 0\n",
       "           fun: -13798.791081338484\n",
       "             x: [ 1.208e-03  3.179e-02 -4.829e-02  8.045e-06  4.217e-02\n",
       "                  9.349e-01]\n",
       "           nit: 392\n",
       "          nfev: 615\n",
       " final_simplex: (array([[ 1.208e-03,  3.179e-02, ...,  4.217e-02,\n",
       "                         9.349e-01],\n",
       "                       [ 1.209e-03,  3.170e-02, ...,  4.217e-02,\n",
       "                         9.349e-01],\n",
       "                       ...,\n",
       "                       [ 1.207e-03,  3.181e-02, ...,  4.216e-02,\n",
       "                         9.349e-01],\n",
       "                       [ 1.208e-03,  3.173e-02, ...,  4.219e-02,\n",
       "                         9.349e-01]]), array([-1.380e+04, -1.380e+04, -1.380e+04, -1.380e+04,\n",
       "                       -1.380e+04, -1.380e+04, -1.380e+04]))"
      ]
     },
     "execution_count": 20,
     "metadata": {},
     "output_type": "execute_result"
    }
   ],
   "source": [
    "ar_garch_params"
   ]
  },
  {
   "cell_type": "markdown",
   "metadata": {},
   "source": [
    "**Conditional Variance and Volatility**"
   ]
  },
  {
   "cell_type": "code",
   "execution_count": 22,
   "metadata": {},
   "outputs": [],
   "source": [
    "estimated_params = ar_garch_params.x\n",
    "\n",
    "phi_0 = estimated_params[0]\n",
    "phi_1 = estimated_params[1]\n",
    "phi_2 = estimated_params[2]\n",
    "alpha_0 = estimated_params[3]\n",
    "alpha_1 = estimated_params[4]\n",
    "beta_1 = estimated_params[5]\n",
    "\n",
    "ar2_prediction = phi_0 + phi_1 * r_t.iloc[1:-1].values + phi_2 * r_t.iloc[:-2].values\n",
    "eps_t = r_t.iloc[2:].values - ar2_prediction\n",
    "\n",
    "sigma2_t = garch_1_1_variance(alpha_0, alpha_1, beta_1, eps_t)\n",
    "sigma_t = pd.Series(np.sqrt(sigma2_t*252), index=df.index[2:-1])"
   ]
  },
  {
   "cell_type": "code",
   "execution_count": 23,
   "metadata": {},
   "outputs": [
    {
     "name": "stderr",
     "output_type": "stream",
     "text": [
      "<>:2: SyntaxWarning: invalid escape sequence '\\{'\n",
      "<>:2: SyntaxWarning: invalid escape sequence '\\{'\n",
      "/var/folders/t7/dg2175l52yb531b7pbv1fvnh0000gn/T/ipykernel_1393/4122834829.py:2: SyntaxWarning: invalid escape sequence '\\{'\n",
      "  plt.title('$\\{\\sigma_{t-1}\\}_t$, ADS.DE, annualized')\n"
     ]
    },
    {
     "data": {
      "image/png": "[encoded data removed]",
      "text/plain": [
       "<Figure size 640x480 with 1 Axes>"
      ]
     },
     "metadata": {},
     "output_type": "display_data"
    }
   ],
   "source": [
    "sigma_t.plot()\n",
    "plt.title('$\\{\\sigma_{t-1}\\}_t$, ADS.DE, annualized')\n",
    "plt.show()"
   ]
  },
  {
   "cell_type": "code",
   "execution_count": null,
   "metadata": {},
   "outputs": [],
   "source": []
  },
  {
   "cell_type": "code",
   "execution_count": null,
   "metadata": {},
   "outputs": [],
   "source": []
  },
  {
   "cell_type": "code",
   "execution_count": null,
   "metadata": {},
   "outputs": [],
   "source": []
  },
  {
   "cell_type": "markdown",
   "metadata": {},
   "source": [
    "**Python Package for MLE**\n",
    "\n",
    "our notation: ARMA(p,q) GARCH(m,s)\n",
    "\n",
    "this package: AR(lags) GARCH(p,q)"
   ]
  },
  {
   "cell_type": "code",
   "metadata": {
    "ExecuteTime": {
     "end_time": "2025-06-19T14:36:24.392151Z",
     "start_time": "2025-06-19T14:36:24.201794Z"
    }
   },
   "source": [
    "ar_garchmodel = arch_model(r_t, mean='AR', lags=2, vol='GARCH', p=1, q=1, dist='normal', rescale=False)\n",
    "ar_garchmodel_fit = ar_garchmodel.fit()\n",
    "ar_garchmodel_fit.summary()"
   ],
   "outputs": [
    {
     "name": "stdout",
     "output_type": "stream",
     "text": [
      "Iteration:      1,   Func. Count:      8,   Neg. LLF: 51673878150.70922\n",
      "Iteration:      2,   Func. Count:     23,   Neg. LLF: 15480297.972322809\n",
      "Iteration:      3,   Func. Count:     37,   Neg. LLF: 13808387.020244274\n",
      "Iteration:      4,   Func. Count:     51,   Neg. LLF: 10389238.846153555\n",
      "Iteration:      5,   Func. Count:     65,   Neg. LLF: 1.9604766687606538e+17\n",
      "Iteration:      6,   Func. Count:     82,   Neg. LLF: 197055806.50664514\n",
      "Iteration:      7,   Func. Count:     96,   Neg. LLF: 38575952187891.11\n",
      "Iteration:      8,   Func. Count:    112,   Neg. LLF: -13800.528894340478\n",
      "Optimization terminated successfully    (Exit mode 0)\n",
      "            Current function value: -13800.528886786944\n",
      "            Iterations: 12\n",
      "            Function evaluations: 112\n",
      "            Gradient evaluations: 8\n"
     ]
    },
    {
     "data": {
      "text/plain": [
       "<class 'statsmodels.iolib.summary.Summary'>\n",
       "\"\"\"\n",
       "                           AR - GARCH Model Results                           \n",
       "==============================================================================\n",
       "Dep. Variable:                 ADS.DE   R-squared:                       0.002\n",
       "Mean Model:                        AR   Adj. R-squared:                  0.002\n",
       "Vol Model:                      GARCH   Log-Likelihood:                13800.5\n",
       "Distribution:                  Normal   AIC:                          -27589.1\n",
       "Method:            Maximum Likelihood   BIC:                          -27549.6\n",
       "                                        No. Observations:                 5283\n",
       "Date:                Thu, Jun 19 2025   Df Residuals:                     5280\n",
       "Time:                        16:36:24   Df Model:                            3\n",
       "                                  Mean Model                                  \n",
       "==============================================================================\n",
       "                 coef    std err          t      P>|t|        95.0% Conf. Int.\n",
       "------------------------------------------------------------------------------\n",
       "Const      1.0633e-03  2.316e-04      4.591  4.404e-06   [6.094e-04,1.517e-03]\n",
       "ADS.DE[1]      0.0340  1.475e-02      2.306  2.109e-02   [5.111e-03,6.294e-02]\n",
       "ADS.DE[2]     -0.0416  9.720e-03     -4.282  1.853e-05 [-6.067e-02,-2.257e-02]\n",
       "                              Volatility Model                              \n",
       "============================================================================\n",
       "                 coef    std err          t      P>|t|      95.0% Conf. Int.\n",
       "----------------------------------------------------------------------------\n",
       "omega      7.3174e-06  8.252e-11  8.867e+04      0.000 [7.317e-06,7.318e-06]\n",
       "alpha[1]       0.0500  1.190e-02      4.201  2.659e-05 [2.667e-02,7.333e-02]\n",
       "beta[1]        0.9300  1.106e-02     84.107      0.000     [  0.908,  0.952]\n",
       "============================================================================\n",
       "\n",
       "Covariance estimator: robust\n",
       "\"\"\""
      ],
      "text/html": [
       "<table class=\"simpletable\">\n",
       "<caption>AR - GARCH Model Results</caption>\n",
       "<tr>\n",
       "  <th>Dep. Variable:</th>       <td>ADS.DE</td>       <th>  R-squared:         </th>  <td>   0.002</td> \n",
       "</tr>\n",
       "<tr>\n",
       "  <th>Mean Model:</th>            <td>AR</td>         <th>  Adj. R-squared:    </th>  <td>   0.002</td> \n",
       "</tr>\n",
       "<tr>\n",
       "  <th>Vol Model:</th>            <td>GARCH</td>       <th>  Log-Likelihood:    </th> <td>   13800.5</td>\n",
       "</tr>\n",
       "<tr>\n",
       "  <th>Distribution:</th>        <td>Normal</td>       <th>  AIC:               </th> <td>  -27589.1</td>\n",
       "</tr>\n",
       "<tr>\n",
       "  <th>Method:</th>        <td>Maximum Likelihood</td> <th>  BIC:               </th> <td>  -27549.6</td>\n",
       "</tr>\n",
       "<tr>\n",
       "  <th></th>                        <td></td>          <th>  No. Observations:  </th>    <td>5283</td>   \n",
       "</tr>\n",
       "<tr>\n",
       "  <th>Date:</th>           <td>Thu, Jun 19 2025</td>  <th>  Df Residuals:      </th>    <td>5280</td>   \n",
       "</tr>\n",
       "<tr>\n",
       "  <th>Time:</th>               <td>16:36:24</td>      <th>  Df Model:          </th>      <td>3</td>    \n",
       "</tr>\n",
       "</table>\n",
       "<table class=\"simpletable\">\n",
       "<caption>Mean Model</caption>\n",
       "<tr>\n",
       "      <td></td>         <th>coef</th>     <th>std err</th>      <th>t</th>       <th>P>|t|</th>      <th>95.0% Conf. Int.</th>    \n",
       "</tr>\n",
       "<tr>\n",
       "  <th>Const</th>     <td>1.0633e-03</td> <td>2.316e-04</td> <td>    4.591</td> <td>4.404e-06</td>  <td>[6.094e-04,1.517e-03]</td> \n",
       "</tr>\n",
       "<tr>\n",
       "  <th>ADS.DE[1]</th> <td>    0.0340</td> <td>1.475e-02</td> <td>    2.306</td> <td>2.109e-02</td>  <td>[5.111e-03,6.294e-02]</td> \n",
       "</tr>\n",
       "<tr>\n",
       "  <th>ADS.DE[2]</th> <td>   -0.0416</td> <td>9.720e-03</td> <td>   -4.282</td> <td>1.853e-05</td> <td>[-6.067e-02,-2.257e-02]</td>\n",
       "</tr>\n",
       "</table>\n",
       "<table class=\"simpletable\">\n",
       "<caption>Volatility Model</caption>\n",
       "<tr>\n",
       "      <td></td>        <th>coef</th>     <th>std err</th>      <th>t</th>       <th>P>|t|</th>     <th>95.0% Conf. Int.</th>   \n",
       "</tr>\n",
       "<tr>\n",
       "  <th>omega</th>    <td>7.3174e-06</td> <td>8.252e-11</td> <td>8.867e+04</td>   <td>0.000</td>   <td>[7.317e-06,7.318e-06]</td>\n",
       "</tr>\n",
       "<tr>\n",
       "  <th>alpha[1]</th> <td>    0.0500</td> <td>1.190e-02</td> <td>    4.201</td> <td>2.659e-05</td> <td>[2.667e-02,7.333e-02]</td>\n",
       "</tr>\n",
       "<tr>\n",
       "  <th>beta[1]</th>  <td>    0.9300</td> <td>1.106e-02</td> <td>   84.107</td>   <td>0.000</td>     <td>[  0.908,  0.952]</td>  \n",
       "</tr>\n",
       "</table><br/><br/>Covariance estimator: robust"
      ],
      "text/latex": "\\begin{center}\n\\begin{tabular}{lclc}\n\\toprule\n\\textbf{Dep. Variable:} &       ADS.DE       & \\textbf{  R-squared:         } &     0.002   \\\\\n\\textbf{Mean Model:}    &         AR         & \\textbf{  Adj. R-squared:    } &     0.002   \\\\\n\\textbf{Vol Model:}     &       GARCH        & \\textbf{  Log-Likelihood:    } &    13800.5  \\\\\n\\textbf{Distribution:}  &       Normal       & \\textbf{  AIC:               } &   -27589.1  \\\\\n\\textbf{Method:}        & Maximum Likelihood & \\textbf{  BIC:               } &   -27549.6  \\\\\n\\textbf{}               &                    & \\textbf{  No. Observations:  } &    5283     \\\\\n\\textbf{Date:}          &  Thu, Jun 19 2025  & \\textbf{  Df Residuals:      } &    5280     \\\\\n\\textbf{Time:}          &      16:36:24      & \\textbf{  Df Model:          } &     3       \\\\\n\\bottomrule\n\\end{tabular}\n\\begin{tabular}{lccccc}\n                   & \\textbf{coef} & \\textbf{std err} & \\textbf{t} & \\textbf{P$> |$t$|$} & \\textbf{95.0\\% Conf. Int.}  \\\\\n\\midrule\n\\textbf{Const}     &   1.0633e-03  &    2.316e-04     &     4.591  &      4.404e-06       &   [6.094e-04,1.517e-03]     \\\\\n\\textbf{ADS.DE[1]} &       0.0340  &    1.475e-02     &     2.306  &      2.109e-02       &   [5.111e-03,6.294e-02]     \\\\\n\\textbf{ADS.DE[2]} &      -0.0416  &    9.720e-03     &    -4.282  &      1.853e-05       &  [-6.067e-02,-2.257e-02]    \\\\\n                  & \\textbf{coef} & \\textbf{std err} & \\textbf{t} & \\textbf{P$> |$t$|$} & \\textbf{95.0\\% Conf. Int.}  \\\\\n\\midrule\n\\textbf{omega}    &   7.3174e-06  &    8.252e-11     & 8.867e+04  &        0.000         &   [7.317e-06,7.318e-06]     \\\\\n\\textbf{alpha[1]} &       0.0500  &    1.190e-02     &     4.201  &      2.659e-05       &   [2.667e-02,7.333e-02]     \\\\\n\\textbf{beta[1]}  &       0.9300  &    1.106e-02     &    84.107  &        0.000         &     [  0.908,  0.952]       \\\\\n\\bottomrule\n\\end{tabular}\n%\\caption{AR - GARCH Model Results}\n\\end{center}\n\nCovariance estimator: robust"
     },
     "execution_count": 5,
     "metadata": {},
     "output_type": "execute_result"
    }
   ],
   "execution_count": 5
  },
  {
   "metadata": {},
   "cell_type": "code",
   "outputs": [],
   "execution_count": null,
   "source": ""
  }
 ],
 "metadata": {
  "kernelspec": {
   "display_name": "Python 3 (ipykernel)",
   "language": "python",
   "name": "python3"
  },
  "language_info": {
   "codemirror_mode": {
    "name": "ipython",
    "version": 3
   },
   "file_extension": ".py",
   "mimetype": "text/x-python",
   "name": "python",
   "nbconvert_exporter": "python",
   "pygments_lexer": "ipython3",
   "version": "3.12.7"
  }
 },
 "nbformat": 4,
 "nbformat_minor": 4
}
