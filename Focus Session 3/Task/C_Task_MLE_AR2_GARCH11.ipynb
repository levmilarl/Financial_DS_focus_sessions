{
 "cells": [
  {
   "cell_type": "markdown",
   "metadata": {},
   "source": [
    "## Guided Self-Study\n",
    "\n",
    "Students are encouraged to work through this worksheet at home. Alternatively, they can complete it during the Python Focus Session, where the Host will be available to provide guidance and support."
   ]
  },
  {
   "cell_type": "markdown",
   "metadata": {},
   "source": [
    "## Financial Set-up:\n",
    "\n",
    "You have access to a cleaned dataset of daily returns for Euro Stoxx 50 stocks. Your task is to focus on the return series of Adidas.\n",
    "\n",
    "Start by visualizing the time series to get a sense of the data—look for obvious errors and try to understand its general shape. Does it look roughly Gaussian? Are there jumps? Signs of volatility clustering? Anything unusual?\n",
    "\n",
    "Next, based on the observed return series, you'll estimate the conditional variance of returns. While we’re not applying a formal filter here, you can think of this as “filtering out” the variance.\n",
    "\n",
    "To do this, assume the return series follows an ARMA-GARCH process. In this case, we use an AR(2)-GARCH(1,1) model.\n",
    "\n",
    "Write down the likelihood function for this model and implement the estimation algorithm.\n",
    "\n",
    "Note: The exact ARMA-GARCH order isn’t critical. Feel free to experiment with other specifications and compare the results."
   ]
  },
  {
   "cell_type": "code",
   "metadata": {
    "ExecuteTime": {
     "end_time": "2025-06-19T14:18:34.128054Z",
     "start_time": "2025-06-19T14:18:34.121138Z"
    }
   },
   "source": [],
   "outputs": [],
   "execution_count": null
  },
  {
   "cell_type": "markdown",
   "metadata": {},
   "source": [
    "### Get daily return data"
   ]
  },
  {
   "cell_type": "code",
   "metadata": {
    "ExecuteTime": {
     "end_time": "2025-06-19T14:18:34.158690Z",
     "start_time": "2025-06-19T14:18:34.151351Z"
    }
   },
   "source": [
    "import numpy as np\n",
    "import pandas as pd\n",
    "import statsmodels.api as sm\n",
    "from arch import arch_model\n",
    "import matplotlib as plt\n",
    "import scipy.optimize as sco"
   ],
   "outputs": [],
   "execution_count": 7
  },
  {
   "cell_type": "code",
   "metadata": {
    "ExecuteTime": {
     "end_time": "2025-06-19T14:18:34.252669Z",
     "start_time": "2025-06-19T14:18:34.194227Z"
    }
   },
   "source": [
    "df = pd.read_csv(\"r_ES50_d_cleaned_realized.csv\", index_col=\"Date\")"
   ],
   "outputs": [],
   "execution_count": 8
  },
  {
   "cell_type": "code",
   "metadata": {
    "ExecuteTime": {
     "end_time": "2025-06-19T14:18:34.313456Z",
     "start_time": "2025-06-19T14:18:34.278737Z"
    }
   },
   "source": [
    "df"
   ],
   "outputs": [
    {
     "data": {
      "text/plain": [
       "              ADS.DE     AI.PA    ALV.DE   ASML.AS     CS.PA   BBVA.MC  \\\n",
       "Date                                                                     \n",
       "2000-01-05 -0.023996 -0.009332 -0.004736 -0.100229 -0.015385 -0.022708   \n",
       "2000-01-06  0.041964  0.069408  0.040316 -0.072511 -0.007782  0.006279   \n",
       "2000-01-07 -0.013793 -0.012318  0.027432  0.072005  0.030772  0.006240   \n",
       "2000-01-10  0.015025 -0.035451  0.005750  0.069533  0.000000 -0.016227   \n",
       "2000-01-11 -0.009347 -0.009217 -0.009157  0.012224 -0.022990 -0.020279   \n",
       "...              ...       ...       ...       ...       ...       ...   \n",
       "2020-06-25  0.009711  0.005137  0.015274  0.000777  0.008762  0.012781   \n",
       "2020-06-26 -0.021232 -0.005930 -0.015387  0.006192 -0.002372 -0.024058   \n",
       "2020-06-29 -0.006891  0.011041  0.012395 -0.005571  0.005061  0.027633   \n",
       "2020-06-30  0.009462  0.007034  0.008509  0.014482 -0.000430 -0.005858   \n",
       "2020-07-01 -0.005150 -0.006642 -0.019220 -0.005675 -0.016905 -0.025786   \n",
       "\n",
       "              SAN.MC    BAS.DE   BAYN.DE    BMW.DE  ...     SU.PA    SIE.DE  \\\n",
       "Date                                                ...                       \n",
       "2000-01-05 -0.024598 -0.038939 -0.026907 -0.019987  ... -0.042903 -0.034424   \n",
       "2000-01-06  0.000000  0.003755  0.003403 -0.003249  ...  0.049442 -0.012306   \n",
       "2000-01-07  0.043328  0.040197  0.040830 -0.001810  ...  0.018089  0.039441   \n",
       "2000-01-10 -0.008872  0.004390  0.035670  0.039081  ... -0.016786  0.057803   \n",
       "2000-01-11 -0.034456 -0.045421 -0.030031 -0.003490  ... -0.039170  0.006872   \n",
       "...              ...       ...       ...       ...  ...       ...       ...   \n",
       "2020-06-25  0.024750  0.001007 -0.029875  0.015893  ...  0.005816  0.008457   \n",
       "2020-06-26 -0.031093 -0.020328 -0.016924 -0.023218  ...  0.007634 -0.002746   \n",
       "2020-06-29  0.039511  0.029043  0.001646  0.016714  ...  0.013272  0.018099   \n",
       "2020-06-30 -0.014835 -0.005000 -0.016731  0.001938  ...  0.002836  0.010170   \n",
       "2020-07-01 -0.021381 -0.024147 -0.002435 -0.014715  ... -0.017548 -0.013067   \n",
       "\n",
       "              TEF.MC     FP.PA    URW.AS    UNA.AS     DG.PA    VIV.PA  \\\n",
       "Date                                                                     \n",
       "2000-01-05 -0.047851 -0.025479 -0.000945  0.021525  0.022467 -0.024392   \n",
       "2000-01-06  0.000874 -0.029461  0.029561  0.036187  0.032790 -0.011798   \n",
       "2000-01-07  0.000873  0.004971 -0.006212  0.014364  0.031750  0.008088   \n",
       "2000-01-10  0.029700  0.000826  0.010789 -0.011506 -0.042558  0.086030   \n",
       "2000-01-11  0.000849  0.007404  0.004556 -0.012549  0.042558  0.018587   \n",
       "...              ...       ...       ...       ...       ...       ...   \n",
       "2020-06-25  0.023065  0.007984  0.021723 -0.001435  0.011280  0.008270   \n",
       "2020-06-26 -0.020212 -0.001848 -0.052789  0.006543 -0.008571 -0.003039   \n",
       "2020-06-29  0.024855  0.002463  0.011663 -0.025595  0.017311  0.008658   \n",
       "2020-06-30 -0.016579 -0.016783  0.002795 -0.012200 -0.008984 -0.015639   \n",
       "2020-07-01 -0.019737 -0.007682 -0.032830 -0.003604 -0.012023 -0.009679   \n",
       "\n",
       "              VOW.DE       1/N  \n",
       "Date                            \n",
       "2000-01-05 -0.037946 -0.022821  \n",
       "2000-01-06 -0.004413  0.006099  \n",
       "2000-01-07  0.028438  0.023823  \n",
       "2000-01-10  0.002800  0.009664  \n",
       "2000-01-11  0.015536 -0.004634  \n",
       "...              ...       ...  \n",
       "2020-06-25  0.018981  0.008056  \n",
       "2020-06-26 -0.009094 -0.007704  \n",
       "2020-06-29  0.010486  0.012619  \n",
       "2020-06-30 -0.003483 -0.001748  \n",
       "2020-07-01 -0.011934 -0.013222  \n",
       "\n",
       "[5285 rows x 44 columns]"
      ],
      "text/html": [
       "<div>\n",
       "<style scoped>\n",
       "    .dataframe tbody tr th:only-of-type {\n",
       "        vertical-align: middle;\n",
       "    }\n",
       "\n",
       "    .dataframe tbody tr th {\n",
       "        vertical-align: top;\n",
       "    }\n",
       "\n",
       "    .dataframe thead th {\n",
       "        text-align: right;\n",
       "    }\n",
       "</style>\n",
       "<table border=\"1\" class=\"dataframe\">\n",
       "  <thead>\n",
       "    <tr style=\"text-align: right;\">\n",
       "      <th></th>\n",
       "      <th>ADS.DE</th>\n",
       "      <th>AI.PA</th>\n",
       "      <th>ALV.DE</th>\n",
       "      <th>ASML.AS</th>\n",
       "      <th>CS.PA</th>\n",
       "      <th>BBVA.MC</th>\n",
       "      <th>SAN.MC</th>\n",
       "      <th>BAS.DE</th>\n",
       "      <th>BAYN.DE</th>\n",
       "      <th>BMW.DE</th>\n",
       "      <th>...</th>\n",
       "      <th>SU.PA</th>\n",
       "      <th>SIE.DE</th>\n",
       "      <th>TEF.MC</th>\n",
       "      <th>FP.PA</th>\n",
       "      <th>URW.AS</th>\n",
       "      <th>UNA.AS</th>\n",
       "      <th>DG.PA</th>\n",
       "      <th>VIV.PA</th>\n",
       "      <th>VOW.DE</th>\n",
       "      <th>1/N</th>\n",
       "    </tr>\n",
       "    <tr>\n",
       "      <th>Date</th>\n",
       "      <th></th>\n",
       "      <th></th>\n",
       "      <th></th>\n",
       "      <th></th>\n",
       "      <th></th>\n",
       "      <th></th>\n",
       "      <th></th>\n",
       "      <th></th>\n",
       "      <th></th>\n",
       "      <th></th>\n",
       "      <th></th>\n",
       "      <th></th>\n",
       "      <th></th>\n",
       "      <th></th>\n",
       "      <th></th>\n",
       "      <th></th>\n",
       "      <th></th>\n",
       "      <th></th>\n",
       "      <th></th>\n",
       "      <th></th>\n",
       "      <th></th>\n",
       "    </tr>\n",
       "  </thead>\n",
       "  <tbody>\n",
       "    <tr>\n",
       "      <th>2000-01-05</th>\n",
       "      <td>-0.023996</td>\n",
       "      <td>-0.009332</td>\n",
       "      <td>-0.004736</td>\n",
       "      <td>-0.100229</td>\n",
       "      <td>-0.015385</td>\n",
       "      <td>-0.022708</td>\n",
       "      <td>-0.024598</td>\n",
       "      <td>-0.038939</td>\n",
       "      <td>-0.026907</td>\n",
       "      <td>-0.019987</td>\n",
       "      <td>...</td>\n",
       "      <td>-0.042903</td>\n",
       "      <td>-0.034424</td>\n",
       "      <td>-0.047851</td>\n",
       "      <td>-0.025479</td>\n",
       "      <td>-0.000945</td>\n",
       "      <td>0.021525</td>\n",
       "      <td>0.022467</td>\n",
       "      <td>-0.024392</td>\n",
       "      <td>-0.037946</td>\n",
       "      <td>-0.022821</td>\n",
       "    </tr>\n",
       "    <tr>\n",
       "      <th>2000-01-06</th>\n",
       "      <td>0.041964</td>\n",
       "      <td>0.069408</td>\n",
       "      <td>0.040316</td>\n",
       "      <td>-0.072511</td>\n",
       "      <td>-0.007782</td>\n",
       "      <td>0.006279</td>\n",
       "      <td>0.000000</td>\n",
       "      <td>0.003755</td>\n",
       "      <td>0.003403</td>\n",
       "      <td>-0.003249</td>\n",
       "      <td>...</td>\n",
       "      <td>0.049442</td>\n",
       "      <td>-0.012306</td>\n",
       "      <td>0.000874</td>\n",
       "      <td>-0.029461</td>\n",
       "      <td>0.029561</td>\n",
       "      <td>0.036187</td>\n",
       "      <td>0.032790</td>\n",
       "      <td>-0.011798</td>\n",
       "      <td>-0.004413</td>\n",
       "      <td>0.006099</td>\n",
       "    </tr>\n",
       "    <tr>\n",
       "      <th>2000-01-07</th>\n",
       "      <td>-0.013793</td>\n",
       "      <td>-0.012318</td>\n",
       "      <td>0.027432</td>\n",
       "      <td>0.072005</td>\n",
       "      <td>0.030772</td>\n",
       "      <td>0.006240</td>\n",
       "      <td>0.043328</td>\n",
       "      <td>0.040197</td>\n",
       "      <td>0.040830</td>\n",
       "      <td>-0.001810</td>\n",
       "      <td>...</td>\n",
       "      <td>0.018089</td>\n",
       "      <td>0.039441</td>\n",
       "      <td>0.000873</td>\n",
       "      <td>0.004971</td>\n",
       "      <td>-0.006212</td>\n",
       "      <td>0.014364</td>\n",
       "      <td>0.031750</td>\n",
       "      <td>0.008088</td>\n",
       "      <td>0.028438</td>\n",
       "      <td>0.023823</td>\n",
       "    </tr>\n",
       "    <tr>\n",
       "      <th>2000-01-10</th>\n",
       "      <td>0.015025</td>\n",
       "      <td>-0.035451</td>\n",
       "      <td>0.005750</td>\n",
       "      <td>0.069533</td>\n",
       "      <td>0.000000</td>\n",
       "      <td>-0.016227</td>\n",
       "      <td>-0.008872</td>\n",
       "      <td>0.004390</td>\n",
       "      <td>0.035670</td>\n",
       "      <td>0.039081</td>\n",
       "      <td>...</td>\n",
       "      <td>-0.016786</td>\n",
       "      <td>0.057803</td>\n",
       "      <td>0.029700</td>\n",
       "      <td>0.000826</td>\n",
       "      <td>0.010789</td>\n",
       "      <td>-0.011506</td>\n",
       "      <td>-0.042558</td>\n",
       "      <td>0.086030</td>\n",
       "      <td>0.002800</td>\n",
       "      <td>0.009664</td>\n",
       "    </tr>\n",
       "    <tr>\n",
       "      <th>2000-01-11</th>\n",
       "      <td>-0.009347</td>\n",
       "      <td>-0.009217</td>\n",
       "      <td>-0.009157</td>\n",
       "      <td>0.012224</td>\n",
       "      <td>-0.022990</td>\n",
       "      <td>-0.020279</td>\n",
       "      <td>-0.034456</td>\n",
       "      <td>-0.045421</td>\n",
       "      <td>-0.030031</td>\n",
       "      <td>-0.003490</td>\n",
       "      <td>...</td>\n",
       "      <td>-0.039170</td>\n",
       "      <td>0.006872</td>\n",
       "      <td>0.000849</td>\n",
       "      <td>0.007404</td>\n",
       "      <td>0.004556</td>\n",
       "      <td>-0.012549</td>\n",
       "      <td>0.042558</td>\n",
       "      <td>0.018587</td>\n",
       "      <td>0.015536</td>\n",
       "      <td>-0.004634</td>\n",
       "    </tr>\n",
       "    <tr>\n",
       "      <th>...</th>\n",
       "      <td>...</td>\n",
       "      <td>...</td>\n",
       "      <td>...</td>\n",
       "      <td>...</td>\n",
       "      <td>...</td>\n",
       "      <td>...</td>\n",
       "      <td>...</td>\n",
       "      <td>...</td>\n",
       "      <td>...</td>\n",
       "      <td>...</td>\n",
       "      <td>...</td>\n",
       "      <td>...</td>\n",
       "      <td>...</td>\n",
       "      <td>...</td>\n",
       "      <td>...</td>\n",
       "      <td>...</td>\n",
       "      <td>...</td>\n",
       "      <td>...</td>\n",
       "      <td>...</td>\n",
       "      <td>...</td>\n",
       "      <td>...</td>\n",
       "    </tr>\n",
       "    <tr>\n",
       "      <th>2020-06-25</th>\n",
       "      <td>0.009711</td>\n",
       "      <td>0.005137</td>\n",
       "      <td>0.015274</td>\n",
       "      <td>0.000777</td>\n",
       "      <td>0.008762</td>\n",
       "      <td>0.012781</td>\n",
       "      <td>0.024750</td>\n",
       "      <td>0.001007</td>\n",
       "      <td>-0.029875</td>\n",
       "      <td>0.015893</td>\n",
       "      <td>...</td>\n",
       "      <td>0.005816</td>\n",
       "      <td>0.008457</td>\n",
       "      <td>0.023065</td>\n",
       "      <td>0.007984</td>\n",
       "      <td>0.021723</td>\n",
       "      <td>-0.001435</td>\n",
       "      <td>0.011280</td>\n",
       "      <td>0.008270</td>\n",
       "      <td>0.018981</td>\n",
       "      <td>0.008056</td>\n",
       "    </tr>\n",
       "    <tr>\n",
       "      <th>2020-06-26</th>\n",
       "      <td>-0.021232</td>\n",
       "      <td>-0.005930</td>\n",
       "      <td>-0.015387</td>\n",
       "      <td>0.006192</td>\n",
       "      <td>-0.002372</td>\n",
       "      <td>-0.024058</td>\n",
       "      <td>-0.031093</td>\n",
       "      <td>-0.020328</td>\n",
       "      <td>-0.016924</td>\n",
       "      <td>-0.023218</td>\n",
       "      <td>...</td>\n",
       "      <td>0.007634</td>\n",
       "      <td>-0.002746</td>\n",
       "      <td>-0.020212</td>\n",
       "      <td>-0.001848</td>\n",
       "      <td>-0.052789</td>\n",
       "      <td>0.006543</td>\n",
       "      <td>-0.008571</td>\n",
       "      <td>-0.003039</td>\n",
       "      <td>-0.009094</td>\n",
       "      <td>-0.007704</td>\n",
       "    </tr>\n",
       "    <tr>\n",
       "      <th>2020-06-29</th>\n",
       "      <td>-0.006891</td>\n",
       "      <td>0.011041</td>\n",
       "      <td>0.012395</td>\n",
       "      <td>-0.005571</td>\n",
       "      <td>0.005061</td>\n",
       "      <td>0.027633</td>\n",
       "      <td>0.039511</td>\n",
       "      <td>0.029043</td>\n",
       "      <td>0.001646</td>\n",
       "      <td>0.016714</td>\n",
       "      <td>...</td>\n",
       "      <td>0.013272</td>\n",
       "      <td>0.018099</td>\n",
       "      <td>0.024855</td>\n",
       "      <td>0.002463</td>\n",
       "      <td>0.011663</td>\n",
       "      <td>-0.025595</td>\n",
       "      <td>0.017311</td>\n",
       "      <td>0.008658</td>\n",
       "      <td>0.010486</td>\n",
       "      <td>0.012619</td>\n",
       "    </tr>\n",
       "    <tr>\n",
       "      <th>2020-06-30</th>\n",
       "      <td>0.009462</td>\n",
       "      <td>0.007034</td>\n",
       "      <td>0.008509</td>\n",
       "      <td>0.014482</td>\n",
       "      <td>-0.000430</td>\n",
       "      <td>-0.005858</td>\n",
       "      <td>-0.014835</td>\n",
       "      <td>-0.005000</td>\n",
       "      <td>-0.016731</td>\n",
       "      <td>0.001938</td>\n",
       "      <td>...</td>\n",
       "      <td>0.002836</td>\n",
       "      <td>0.010170</td>\n",
       "      <td>-0.016579</td>\n",
       "      <td>-0.016783</td>\n",
       "      <td>0.002795</td>\n",
       "      <td>-0.012200</td>\n",
       "      <td>-0.008984</td>\n",
       "      <td>-0.015639</td>\n",
       "      <td>-0.003483</td>\n",
       "      <td>-0.001748</td>\n",
       "    </tr>\n",
       "    <tr>\n",
       "      <th>2020-07-01</th>\n",
       "      <td>-0.005150</td>\n",
       "      <td>-0.006642</td>\n",
       "      <td>-0.019220</td>\n",
       "      <td>-0.005675</td>\n",
       "      <td>-0.016905</td>\n",
       "      <td>-0.025786</td>\n",
       "      <td>-0.021381</td>\n",
       "      <td>-0.024147</td>\n",
       "      <td>-0.002435</td>\n",
       "      <td>-0.014715</td>\n",
       "      <td>...</td>\n",
       "      <td>-0.017548</td>\n",
       "      <td>-0.013067</td>\n",
       "      <td>-0.019737</td>\n",
       "      <td>-0.007682</td>\n",
       "      <td>-0.032830</td>\n",
       "      <td>-0.003604</td>\n",
       "      <td>-0.012023</td>\n",
       "      <td>-0.009679</td>\n",
       "      <td>-0.011934</td>\n",
       "      <td>-0.013222</td>\n",
       "    </tr>\n",
       "  </tbody>\n",
       "</table>\n",
       "<p>5285 rows × 44 columns</p>\n",
       "</div>"
      ]
     },
     "execution_count": 9,
     "metadata": {},
     "output_type": "execute_result"
    }
   ],
   "execution_count": 9
  },
  {
   "cell_type": "code",
   "metadata": {
    "ExecuteTime": {
     "end_time": "2025-06-19T14:18:34.375165Z",
     "start_time": "2025-06-19T14:18:34.368627Z"
    }
   },
   "source": "r_t = df[\"ADS.DE\"] #adidas returns",
   "outputs": [],
   "execution_count": 10
  },
  {
   "cell_type": "code",
   "metadata": {
    "ExecuteTime": {
     "end_time": "2025-06-19T14:18:34.808801Z",
     "start_time": "2025-06-19T14:18:34.523269Z"
    }
   },
   "source": [
    "r_t.plot()"
   ],
   "outputs": [
    {
     "data": {
      "text/plain": [
       "<Axes: xlabel='Date'>"
      ]
     },
     "execution_count": 11,
     "metadata": {},
     "output_type": "execute_result"
    },
    {
     "data": {
      "text/plain": [
       "<Figure size 640x480 with 1 Axes>"
      ],
      "image/png": "[encoded data removed]"
     },
     "metadata": {},
     "output_type": "display_data"
    }
   ],
   "execution_count": 11
  },
  {
   "cell_type": "markdown",
   "metadata": {},
   "source": [
    "## Model\n",
    "\n",
    "Research out what the log likelihood for a Gaussian AR(2)-GARCH(1,1) model looks like. Give AI a chance here; this is also research :-).\n",
    "\n",
    "When I asked GPT, I got a perfectly correct answer. \n",
    "\n",
    "Moreover, GPT revealed: \"**New skill: Understanding vs. Deriving**\n",
    "\n",
    "In a world with tools like this, the teaching goal shifts from “Can you derive this by hand?” to “Do you understand what this expression means, and can you use it wisely?”\n",
    "\n",
    "Just like we don’t teach students to take square roots by hand anymore — but we still teach what a square root is.\"\n",
    "\n",
    "\n"
   ]
  },
  {
   "cell_type": "markdown",
   "metadata": {},
   "source": []
  },
  {
   "cell_type": "markdown",
   "metadata": {},
   "source": []
  },
  {
   "cell_type": "code",
   "metadata": {
    "ExecuteTime": {
     "end_time": "2025-06-19T14:18:35.013211Z",
     "start_time": "2025-06-19T14:18:35.007780Z"
    }
   },
   "source": [],
   "outputs": [],
   "execution_count": null
  },
  {
   "cell_type": "markdown",
   "metadata": {},
   "source": [
    "## Handmade MLE"
   ]
  },
  {
   "cell_type": "code",
   "metadata": {
    "ExecuteTime": {
     "end_time": "2025-06-19T14:18:35.085206Z",
     "start_time": "2025-06-19T14:18:35.076181Z"
    }
   },
   "source": [
    "\n",
    "# MLE estimation of AR(2)-GARCH(1, 1) model\n",
    "# -------------------------------------------------\n",
    "\n",
    "def garch_1_1_variance(:\n",
    "    \n",
    "    return \n",
    "    \n",
    "\n",
    "def Neg_loglikelihood_ar2_Garch11():\n",
    "    \n",
    "    \n",
    "    return "
   ],
   "outputs": [
    {
     "ename": "SyntaxError",
     "evalue": "invalid syntax (1565990096.py, line 4)",
     "output_type": "error",
     "traceback": [
      "  \u001B[36mCell\u001B[39m\u001B[36m \u001B[39m\u001B[32mIn[12]\u001B[39m\u001B[32m, line 4\u001B[39m\n\u001B[31m    \u001B[39m\u001B[31mdef garch_1_1_variance(:\u001B[39m\n                           ^\n\u001B[31mSyntaxError\u001B[39m\u001B[31m:\u001B[39m invalid syntax\n"
     ]
    }
   ],
   "execution_count": 12
  },
  {
   "cell_type": "markdown",
   "metadata": {},
   "source": [
    "### Smart MLE Starting Values: OLS AR(2) and Rule of Thumb for Vol\n"
   ]
  },
  {
   "cell_type": "code",
   "execution_count": null,
   "metadata": {},
   "outputs": [],
   "source": [
    "def lagged_data(data, lags):\n",
    "    nobs = data.shape[0]\n",
    "    y_lag = data[lags:nobs]\n",
    "    x_lag = np.matrix(np.zeros((nobs-lags)*lags).reshape((nobs-lags),lags))\n",
    "    for i in range(1, lags+1):\n",
    "        x_lag[:,i-1] = data[(lags-i):(nobs-i)].reshape(nobs-lags, 1)\n",
    "        \n",
    "    return x_lag, y_lag\n",
    "\n",
    "x,y = lagged_data(r_t.values, 2)"
   ]
  },
  {
   "cell_type": "code",
   "execution_count": null,
   "metadata": {},
   "outputs": [],
   "source": [
    "# OLS:  r_t = const + beta1 * r_(t-1) + beta2 * r_(t-2) + eps\n",
    "\n",
    "x = \n",
    "ar_start= .OLS(y, x).fit()"
   ]
  },
  {
   "cell_type": "code",
   "execution_count": null,
   "metadata": {},
   "outputs": [],
   "source": [
    " "
   ]
  },
  {
   "cell_type": "code",
   "execution_count": null,
   "metadata": {},
   "outputs": [],
   "source": [
    " "
   ]
  },
  {
   "cell_type": "markdown",
   "metadata": {},
   "source": [
    "### Execute handmade MLE"
   ]
  },
  {
   "cell_type": "code",
   "execution_count": null,
   "metadata": {},
   "outputs": [],
   "source": []
  },
  {
   "cell_type": "code",
   "execution_count": null,
   "metadata": {},
   "outputs": [],
   "source": [
    "ar_garch_params"
   ]
  },
  {
   "cell_type": "markdown",
   "metadata": {},
   "source": [
    "### Conditional Variance and Volatility"
   ]
  },
  {
   "cell_type": "code",
   "execution_count": null,
   "metadata": {},
   "outputs": [],
   "source": [
    "estimated_params =  \n",
    "\n",
    " \n",
    "\n",
    " \n",
    "\n",
    "sigma2_t =  \n",
    "sigma_t =  # annualized return volatiltiy"
   ]
  },
  {
   "cell_type": "code",
   "execution_count": null,
   "metadata": {},
   "outputs": [],
   "source": [
    "sigma_t.plot()\n",
    "plt.title('$\\{\\sigma_{t-1}\\}_t$, ADS.DE, annualized')\n",
    "plt.show()"
   ]
  },
  {
   "cell_type": "code",
   "execution_count": null,
   "metadata": {},
   "outputs": [],
   "source": []
  },
  {
   "cell_type": "code",
   "execution_count": null,
   "metadata": {},
   "outputs": [],
   "source": []
  },
  {
   "cell_type": "code",
   "execution_count": null,
   "metadata": {},
   "outputs": [],
   "source": []
  },
  {
   "cell_type": "markdown",
   "metadata": {},
   "source": [
    "### Python Package for MLE**\n",
    "\n",
    "our notation: ARMA(p,q) GARCH(m,s)\n",
    "\n",
    "this package: AR(lags) GARCH(p,q)"
   ]
  },
  {
   "cell_type": "code",
   "metadata": {
    "ExecuteTime": {
     "end_time": "2025-06-19T14:57:45.990146Z",
     "start_time": "2025-06-19T14:57:45.914175Z"
    }
   },
   "source": [
    "ar_garchmodel = arch_model(r_t, mean='AR', lags=2, vol='GARCH', p=1, q=1, dist='normal', rescale=False)\n",
    "ar_garchmodel_fit = ar_garchmodel.fit()\n",
    "\n",
    "print(ar_garchmodel_fit.conditional_volatility.dropna())\n"
   ],
   "outputs": [
    {
     "name": "stdout",
     "output_type": "stream",
     "text": [
      "Iteration:      1,   Func. Count:      8,   Neg. LLF: 51673878150.70922\n",
      "Iteration:      2,   Func. Count:     23,   Neg. LLF: 15480297.972322809\n",
      "Iteration:      3,   Func. Count:     37,   Neg. LLF: 13808387.020244274\n",
      "Iteration:      4,   Func. Count:     51,   Neg. LLF: 10389238.846153555\n",
      "Iteration:      5,   Func. Count:     65,   Neg. LLF: 1.9604766687606538e+17\n",
      "Iteration:      6,   Func. Count:     82,   Neg. LLF: 197055806.50664514\n",
      "Iteration:      7,   Func. Count:     96,   Neg. LLF: 38575952187891.11\n",
      "Iteration:      8,   Func. Count:    112,   Neg. LLF: -13800.528894340478\n",
      "Optimization terminated successfully    (Exit mode 0)\n",
      "            Current function value: -13800.528886786944\n",
      "            Iterations: 12\n",
      "            Function evaluations: 112\n",
      "            Gradient evaluations: 8\n",
      "Date\n",
      "2000-01-07    0.032544\n",
      "2000-01-10    0.031737\n",
      "2000-01-11    0.030937\n",
      "2000-01-12    0.030067\n",
      "2000-01-13    0.029151\n",
      "                ...   \n",
      "2020-06-25    0.024551\n",
      "2020-06-26    0.023953\n",
      "2020-06-29    0.023861\n",
      "2020-06-30    0.023219\n",
      "2020-07-01    0.022621\n",
      "Name: cond_vol, Length: 5283, dtype: float64\n"
     ]
    }
   ],
   "execution_count": 18
  },
  {
   "metadata": {},
   "cell_type": "code",
   "outputs": [],
   "execution_count": null,
   "source": ""
  }
 ],
 "metadata": {
  "kernelspec": {
   "display_name": "Python 3 (ipykernel)",
   "language": "python",
   "name": "python3"
  },
  "language_info": {
   "codemirror_mode": {
    "name": "ipython",
    "version": 3
   },
   "file_extension": ".py",
   "mimetype": "text/x-python",
   "name": "python",
   "nbconvert_exporter": "python",
   "pygments_lexer": "ipython3",
   "version": "3.12.7"
  }
 },
 "nbformat": 4,
 "nbformat_minor": 4
}
