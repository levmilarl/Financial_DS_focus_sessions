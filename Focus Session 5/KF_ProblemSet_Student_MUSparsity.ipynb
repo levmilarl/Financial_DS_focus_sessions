{
 "cells": [
  {
   "cell_type": "markdown",
   "metadata": {},
   "source": [
    "# Problem Set: Risk Measures with Stochastic Volatility Models\n",
    "\n",
    "## Introduction\n",
    "\n",
    "In this problem set, you will implement and compare two different approaches for estimating financial risk measures:\n",
    "\n",
    "1. Kalman Filter with Maximum Likelihood Estimation (MLE)\n",
    "2. EGARCH model\n",
    "\n",
    "You will use these methods to compute two important risk metrics:\n",
    "- Value-at-Risk (VaR)\n",
    "- Expected Shortfall (ES)\n",
    "\n",
    "\n",
    "## Learning Objectives\n",
    "\n",
    "- Understand how to implement a Kalman Filter for stochastic volatility models\n",
    "- Apply Maximum Likelihood Estimation (MLE) for parameter optimization\n",
    "- Compare the Kalman Filter approach with EGARCH models\n",
    "- Implement and interpret Value-at-Risk (VaR) and Expected Shortfall (ES)\n",
    "- Assess model performance using coverage ratio analysis\n",
    "\n",
    "## Requirements\n",
    "\n",
    "The following libraries are needed for this problem set:"
   ]
  },
  {
   "cell_type": "code",
   "execution_count": 4,
   "metadata": {},
   "outputs": [],
   "source": [
    "# Import necessary libraries\n"
   ]
  },
  {
   "cell_type": "markdown",
   "metadata": {},
   "source": [
    "## Part 1: Simulate Data from a Stochastic Volatility Model\n",
    "\n",
    "We'll start by generating simulated data from a stochastic volatility (SV) model. This will allow us to evaluate the performance of our estimation methods against known \"ground truth\" parameters.\n",
    "\n",
    "### Task 1.0 Model Specification\n",
    "\n",
    "Write down the data generating process (DGP) for the SV model we'll use here (use the notation from lecture):\n",
    "\n",
    "\n",
    "Define every symbol that shows up in the DGP:\n",
    "\n",
    "### Task 1.1: Simulate SV data\n",
    "\n",
    "Simulate data from an SV model that fullfils the following specifications:\n",
    "\n",
    "(a) set the seed to 1234\n",
    "\n",
    "(b) use a sample size of 2500\n",
    "\n",
    "(c) model parameters: 0.95 for volatility persistence; 0.2 for \"vol of vol\"; set the unconditional vol to 1.0. \n",
    "\n",
    "(d) initialize the very first element of the latent vol process with its unconditional distribution (see lecture)\n",
    "\n",
    "(e) plot the simulated return series"
   ]
  },
  {
   "cell_type": "code",
   "execution_count": null,
   "metadata": {},
   "outputs": [],
   "source": [
    "\n",
    "# Plot the simulated returns\n",
    "plt.figure(figsize=(14, 6))\n",
    "#plt.plot(r)\n",
    "plt.title('Simulated Returns from SV Model')\n",
    "plt.xlabel('Time')\n",
    "plt.ylabel('Returns')\n",
    "plt.grid(True)\n",
    "plt.show()"
   ]
  },
  {
   "cell_type": "markdown",
   "metadata": {},
   "source": [
    "## Part 2: Kalman Filter Implementation\n",
    "\n",
    "To estimate the SV model, we need to linearize it first using the Harvey Transform.\n",
    "\n",
    "### Task 2.0 The Harvey Transform\n",
    "\n",
    "Explain step by step the Harvey transform and state the transformed DGP (see lecture).\n",
    "\n",
    "### Task 2.1: Implement the Kalman Filter\n",
    "\n",
    "Implement the Kalman filter estimation routine using the following specification:\n",
    "\n",
    "(a) function is called kalman_filter. its input is (y, a, B, Phi, H, Q, a1, P1, return_loglike=False) (notation follows lecture). its output is the negative log-likelihood if return_loglike=True and the time series for [posterior mean, posterior variance, prior mean, prior variance] if return_loglike=False. \n",
    "\n"
   ]
  },
  {
   "cell_type": "code",
   "execution_count": null,
   "metadata": {},
   "outputs": [],
   "source": []
  }
 ],
 "metadata": {
  "kernelspec": {
   "display_name": "Python 3 (ipykernel)",
   "language": "python",
   "name": "python3"
  },
  "language_info": {
   "codemirror_mode": {
    "name": "ipython",
    "version": 3
   },
   "file_extension": ".py",
   "mimetype": "text/x-python",
   "name": "python",
   "nbconvert_exporter": "python",
   "pygments_lexer": "ipython3",
   "version": "3.12.7"
  }
 },
 "nbformat": 4,
 "nbformat_minor": 4
}
