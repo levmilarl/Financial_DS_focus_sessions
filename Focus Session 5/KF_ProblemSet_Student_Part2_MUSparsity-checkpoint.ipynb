{
 "cells": [
  {
   "cell_type": "markdown",
   "metadata": {},
   "source": [
    "\n",
    "\n",
    "### Task 3.1: Implement MLE Objective Function\n",
    "\n",
    "Program the objective function for Maximum Likelihood Estimation of the linearized SV model. \n",
    "\n",
    "Include the following:\n",
    "\n",
    "(a) the function's name is kalman_filter_objfcn. \n",
    "\n",
    "(b) Its input consists of an array with model parameters and the observed return time series.\n",
    "\n",
    "(c) Its output is the negative log-likelihood of the observed returns given the parameters"
   ]
  },
  {
   "cell_type": "markdown",
   "metadata": {},
   "source": [
    "### Task 3.2: Optimize the Parameters using MLE\n",
    "\n",
    "Use numerical optimization to find the parameters that maximize the likelihood (or minimize the negative log-likelihood):\n",
    "\n",
    "Work with the following specification:\n",
    "\n",
    "(a) initial parameter guess for $[\\phi, \\sigma_{\\eta}, \\bar{\\sigma}] = [0.9, 0.3, 1.2]$\n",
    "\n",
    "(b) parameter bounds: $[(0.001, 0.999), (1e-6, None), (1e-6, None)]$ for $[\\phi, \\sigma_{\\eta}, \\bar{\\sigma}]$.\n",
    "\n",
    "Print the estimated and \"true\" parameters. Interpret results."
   ]
  },
  {
   "cell_type": "code",
   "execution_count": null,
   "metadata": {},
   "outputs": [],
   "source": []
  },
  {
   "cell_type": "markdown",
   "metadata": {},
   "source": [
    "### Task 3.3: Run Kalman Filter with Estimated Parameters to get \"filtered\" time series of log-volatility\n",
    "\n",
    "Now use the estimated parameters to run the Kalman Filter and get the filtered estimates of the log-volatility.\n",
    "\n",
    "Show a plot that contrasts the true (simulated) log-volatility time-serie with the estimated log- volatility time series. "
   ]
  },
  {
   "cell_type": "markdown",
   "metadata": {},
   "source": [
    "## Part 4 EGARCH\n",
    "An alternative to the SVM is the GARCH. An EGARCH allows to capture skewness. Work with a python package.\n",
    "\n",
    "### Task 4.0: Fitting EGARCH(1,1)\n",
    "\n",
    "Use a python package to fit an EGARCH(1,1) to the simulated return time series.\n",
    "\n",
    "Display the model estimates and model summary."
   ]
  },
  {
   "cell_type": "markdown",
   "metadata": {},
   "source": [
    "## Part 5: Computing Value-at-Risk (VaR) and Expected Shortfall (ES)\n",
    "\n",
    "Now we'll compute Value-at-Risk (VaR) and Expected Shortfall (ES) using our volatility estimates.\n",
    "\n",
    "For a normal distribution with zero mean and time-varying volatility:\n",
    "\n",
    "* VaR$_\\alpha(t) = z_\\alpha \\times \\sigma_t$ where $z_\\alpha$ is the $\\alpha$-quantile of the standard normal distribution\n",
    "* ES$_\\alpha(t) = -\\sigma_t \\times \\frac{\\phi(z_\\alpha)}{\\alpha}$ where $\\phi(z)$ is the PDF of the standard normal distribution\n",
    "\n",
    "### Task 5.1: Implement VaR and ES Function\n",
    "\n",
    "Write a function to compute VaR and ES. Work with the following specification:\n",
    "\n",
    "(a) function name: VaR_ES\n",
    "\n",
    "(b) input to function: time series of return volatilities (standard deviations), the $\\alpha$-quantile which by default shall be 5\\%\n",
    "\n",
    "(c) output to function: time series of respective VaR and ES."
   ]
  },
  {
   "cell_type": "markdown",
   "metadata": {},
   "source": [
    "### Task 5.2: Calculate VaR and ES for Both Models\n",
    "\n",
    "Compute the VaR and ES measures using both our Kalman Filter and EGARCH estimates.\n",
    "\n",
    "Work with:\n",
    "\n",
    "(a) $\\alpha = 5\\%$"
   ]
  },
  {
   "cell_type": "markdown",
   "metadata": {},
   "source": [
    "## Part 6: Evaluate Model Performance\n",
    "\n",
    "### Task 6.1: Implement Coverage Ratio Function\n",
    "\n",
    "Complete the function to calculate the coverage ratio:"
   ]
  },
  {
   "cell_type": "code",
   "execution_count": null,
   "metadata": {},
   "outputs": [],
   "source": [
    "def coverage_ratio(returns, var_array):\n",
    "    \"\"\"\n",
    "    Fraction of times r_t < VaR_t.\n",
    "    Expect coverage ~ alpha if VaR_t is the alpha-quantile (negative).\n",
    "    \n",
    "    Parameters\n",
    "    ----------\n",
    "    returns : array-like\n",
    "        Time series of returns\n",
    "    var_array : array-like\n",
    "        Time series of Value-at-Risk estimates (negative for left tail)\n",
    "        \n",
    "    Returns\n",
    "    -------\n",
    "    float\n",
    "        Fraction of times returns exceeded VaR\n",
    "    \"\"\"\n",
    "    # TODO: Calculate and return the coverage ratio\n",
    "    # Your code here\n",
    "    return # Your coverage ratio"
   ]
  },
  {
   "cell_type": "markdown",
   "metadata": {},
   "source": [
    "### Task 6.2: Calculate and Compare Coverage Ratios"
   ]
  },
  {
   "cell_type": "code",
   "execution_count": null,
   "metadata": {},
   "outputs": [],
   "source": [
    "# TODO: Calculate coverage ratios for both approaches\n",
    "# Your code here\n",
    "\n",
    "# Print results\n",
    "print(\"EGARCH(1,1) parameter estimates:\\n\", res.params)\n",
    "print(f\"\\nKF VaR coverage = {100*cov_kf:.2f}% (expected {alpha*100}%)\")\n",
    "print(f\"EGARCH VaR coverage = {100*cov_garch:.2f}% (expected {alpha*100}%)\")"
   ]
  },
  {
   "cell_type": "markdown",
   "metadata": {},
   "source": [
    "## Part 7: Visualize Results\n",
    "\n",
    "### Task 7.1: Create Comparative Plots\n",
    "\n",
    "Create plots to visualize and compare the results:"
   ]
  },
  {
   "cell_type": "code",
   "execution_count": null,
   "metadata": {},
   "outputs": [],
   "source": [
    "plt.figure(figsize=(16, 15))\n",
    "\n",
    "# TODO: Plot 1: Compare log-volatility estimates\n",
    "# Your code here\n",
    "\n",
    "# TODO: Plot 2: Returns vs. KF VaR and ES\n",
    "# Your code here\n",
    "\n",
    "# TODO: Plot 3: Returns vs. EGARCH VaR and ES\n",
    "# Your code here\n",
    "\n",
    "plt.tight_layout()\n",
    "plt.show()"
   ]
  },
  {
   "cell_type": "markdown",
   "metadata": {},
   "source": [
    "## Conclusion\n",
    "\n",
    "In this problem set, you've implemented and compared two different approaches for estimating financial risk measures. You've learned how to:\n",
    "\n",
    "1. Implement a Kalman Filter for stochastic volatility models\n",
    "2. Use Maximum Likelihood Estimation for parameter optimization\n",
    "3. Compute and interpret Value-at-Risk (VaR) and Expected Shortfall (ES)\n",
    "4. Compare the performance of different volatility models"
   ]
  }
 ],
 "metadata": {
  "kernelspec": {
   "display_name": "Python 3 (ipykernel)",
   "language": "python",
   "name": "python3"
  },
  "language_info": {
   "codemirror_mode": {
    "name": "ipython",
    "version": 3
   },
   "file_extension": ".py",
   "mimetype": "text/x-python",
   "name": "python",
   "nbconvert_exporter": "python",
   "pygments_lexer": "ipython3",
   "version": "3.12.7"
  }
 },
 "nbformat": 4,
 "nbformat_minor": 4
}
